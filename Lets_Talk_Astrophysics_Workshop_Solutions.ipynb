{
 "cells": [
  {
   "cell_type": "markdown",
   "metadata": {
    "id": "IgTPJ8p5hW3-"
   },
   "source": [
    "# Let's Talk Astrophysics Workshop: Solutions Notebook\n",
    "\n",
    "https://github.com/LTSQueens/Let-s-Talk-Astrophysics"
   ]
  },
  {
   "cell_type": "code",
   "execution_count": null,
   "metadata": {
    "id": "f5I7Mu0h1zyE"
   },
   "outputs": [],
   "source": [
    "import numpy as np"
   ]
  },
  {
   "cell_type": "markdown",
   "metadata": {
    "id": "13OyS55ZeZCt"
   },
   "source": [
    "Давайте посмотрим, как извлекать данные из текстовых файлов! Следующие данные содержат некоторую информацию об орбитах планет в нашей Солнечной системе:\n",
    "\n",
    "\n",
    "|  Planet | Distance (AU) | Эксцентриситет   | Orbital Period (days) |\n",
    "|:-------:|:-------------:|:----------------:|:---------------------:|\n",
    "| Mercury | 0.387         | 0.2056           | 88                    |\n",
    "| Venus   | 0.723         | 0.0068           | 225                   |\n",
    "| Earth   | 1.000         | 0.0167           | 365.24                |\n",
    "| Mars    | 1.524         | 0.0934           | 686.68                |\n",
    "| Jupiter | 5.203         | 0.0484           | 4380 (12 years)       |\n",
    "| Saturn  | 9.537         | 0.0542           | 10585 (29 years)      |\n",
    "| Uranus  | 19.191        | 0.0472           | 30660 (84 years)      |\n",
    "| Neptune | 30.069        | 0.0086           | 60225 (165 years)     |\n",
    "\n",
    "Расстояние указано в астрономических единицах (а.е.), где 1 а.е. — расстояние от Земли до Солнца. Итак, расстояние здесь — это радиальное расстояние от солнца для каждой планеты. Однако ни одна орбита не является идеально круглой, на самом деле это эллипсы (овалы). Эксцентриситет, *e*, представляет собой число от 0 до 1, которое определяет, насколько сжат эллипс.\n",
    "\n",
    "Теперь предположим, что эти данные были предоставлены в виде текстового файла с именем «planet_info.txt» в нашем каталоге. Затем мы хотели бы каким-то образом иметь возможность читать данные в формате, который мы можем использовать в коде. Попробуем же!"
   ]
  },
  {
   "cell_type": "code",
   "execution_count": null,
   "metadata": {
    "id": "sciLUv5cGimm"
   },
   "outputs": [],
   "source": [
    "# Для этого нам нужно использовать функцию «np.loadtxt()», чтобы загрузить наш файл в массив.\n",
    "orbit_data = np.loadtxt('orbit_data.txt', dtype={'names':['planet', 'radius', 'e', 'period'],\n",
    "                                                 'formats': ('U10', 'f4', 'f4', 'f4')})\n",
    "# Аргументы сообщают программе чтения текста, как интерпретировать данные. \n",
    "# 'formats' отслеживают типы данных.\n",
    "print(orbit_data)"
   ]
  },
  {
   "cell_type": "markdown",
   "metadata": {
    "id": "S4_0vFw65wBh"
   },
   "source": [
    "**Plots:** Теперь, когда мы знаем, как импортировать данные, давайте посмотрим, как мы можем отобразить их с помощью графиков. Один из самых мощных инструментов в физике — это возможность отображать данные, поскольку визуализация данных может показать нам структуру, которую мы не можем получить, просто глядя на числа."
   ]
  },
  {
   "cell_type": "code",
   "execution_count": null,
   "metadata": {
    "id": "oobFKYkF75_u"
   },
   "outputs": [],
   "source": [
    "# Один из самых полезных пакетов называется matplotlib.\n",
    "# Pyplot — это часть пакета, которая в основном используется для построения графиков.\n",
    "from matplotlib import pyplot as plt\n",
    "import matplotlib as mplt\n",
    "\n",
    "mplt.rc('xtick', labelsize=18)\n",
    "mplt.rc('ytick', labelsize=18)\n",
    "\n",
    "plt.rcParams.update({'font.size' : 24})\n",
    "plt.rc('legend', fontsize = 20)\n",
    "\n",
    "# Предположим, мы хотим отобразить приведенную выше информацию в виде орбит.\n",
    "# Для простоты мы проигнорируем эксцентриситет и предположим идеальные окружности.\n",
    "# Чтобы создать точки орбиты, нам нужно определить функцию.\n",
    "def orbit(r):\n",
    "    theta = np.linspace(0, 2*np.pi, 100)\n",
    "    x = r*np.cos(theta)\n",
    "    y = r*np.sin(theta)\n",
    "    return x, y\n",
    "\n",
    "# Чтобы построить график, нам нужно заполнить массив numpy, используя приведенную выше функцию. \n",
    "# np.zeros просто создает массивы размера (строка, столбец), \n",
    "# заполненные нулями, которые мы затем можем заменить другими значениями.\n",
    "x_values = np.zeros((8, 100))\n",
    "y_values = np.zeros((8, 100))\n",
    "\n",
    "# Старайтесь не зацикливаться на том, почему мы используем здесь np.zeros.\n",
    "# Основная причина в том, что код так работает быстрее, чем с построением совершенно нового массива.\n",
    "\n",
    "# Мы перебираем элементы массива.\n",
    "for i in range(8):\n",
    "    x_values[i], y_values[i] = orbit(float(orbit_data[i][1]))\n",
    "\n",
    "# Обязательно запустите эту ячейку, чтобы подготовить значения, используемые для построения графика."
   ]
  },
  {
   "cell_type": "code",
   "execution_count": null,
   "metadata": {
    "id": "WH3XnoG6eYbG"
   },
   "outputs": [],
   "source": [
    "# With the setup done, we can actually do the plotting part.\n",
    "# Let's start by making an empty canvas, which is the window in which we will be drawing these orbits. \n",
    "# The [8,8] denotes the size of the window.\n",
    "fig, ax = plt.subplots(figsize=[8,8])\n",
    "\n",
    "plot_index = 3\n",
    "\n",
    "# We interact with the 'ax' object to make the plot. The parameters are changed by using certain functions \n",
    "# as shown below:\n",
    "# The plot is made using ax.plot(x,y,color,label), where x and y are the coordinates we want to plot \n",
    "# (which can be numpy arrays). \n",
    "ax.plot(x_values[plot_index], y_values[plot_index], color='cyan', label=orbit_data[plot_index][0])      \n",
    "\n",
    "# The rest is making it look nice and labeling axis\n",
    "ax.grid(True, linewidth=0.2)                    # Setting the plot to have a grid\n",
    "ax.scatter(0, 0, color='yellow', s=2**9)        # Adding a yellow circle marker for the sun\n",
    "ax.set_xlabel('Distance from Sun (AU)')         # Setting the x-axis label\n",
    "ax.set_ylabel('Distance from Sun (AU)')         # Setting the y-axis label\n",
    "ax.set_title('Plot of Orbits')\n",
    "plt.legend(loc='upper right')\n",
    "\n",
    "# Try changing the plot_index value to change which planet gets plotted."
   ]
  },
  {
   "cell_type": "code",
   "execution_count": null,
   "metadata": {
    "id": "5hZUrfxICidb"
   },
   "outputs": [],
   "source": [
    "# To plot all of the planets, we need to do that first ax.plot() with all of the planets! Do that below:\n",
    "fig, ax = plt.subplots(figsize=[10,10])\n",
    "\n",
    "# This is the same as the above, but now where plot_index was, instead there is <<index>>. \n",
    "# Copy and paste the following plotting line for each planet, replacing <<index>> appropriately:     \n",
    "\n",
    "# ax.plot(x_values[<<index>>], y _values[<<index>>], color=color_array[<<index>>], label=orbit_data[<<index>>][0])\n",
    "\n",
    "# For the color, use the following array:\n",
    "color_array = ['lightpink', 'indigo', 'cyan', 'red', 'tan', 'fuchsia', 'orange', 'gray']\n",
    "\n",
    "# (If you feel fancy, you can use a 'for' loop!)\n",
    "for i in range(len(x_values)):\n",
    "    ax.plot(x_values[i], y_values[i], color=color_array[i], label=orbit_data[i][0]) \n",
    "\n",
    "# Another solution is to just copy and paste the same code 8 times!\n",
    "\n",
    "# The rest is making it look nice and labeling axis\n",
    "ax.grid(True, linewidth=0.2)                    # Setting the plot to have a grid\n",
    "ax.scatter(0, 0, color='yellow', s=2**9)        # Adding a yellow circle marker for the sun\n",
    "ax.set_xlabel('Distance from Sun (AU)')         # Setting the x-axis label\n",
    "ax.set_ylabel('Distance from Sun (AU)')         # Setting the y-axis label\n",
    "ax.set_title('Plot of Orbits')                  # Setting the title\n",
    "plt.legend(loc='upper right')\n",
    "\n",
    "\n",
    "# (HINT: If you are stuck wondering what to use for <<index>>, \n",
    "# refer to the indexing section/plot made before)"
   ]
  },
  {
   "cell_type": "markdown",
   "metadata": {
    "id": "ENqBXJg8-mmX"
   },
   "source": [
    "### 1.2 Концепции астрономии"
   ]
  },
  {
   "cell_type": "markdown",
   "metadata": {
    "id": "-ndtZ9-OsakL"
   },
   "source": [
    "#### Астрономические объекты"
   ]
  },
  {
   "cell_type": "markdown",
   "metadata": {
    "id": "wKuVSINsMcc6"
   },
   "source": [
    "Наша Вселенная состоит из множества различных структур, различающихся по размеру, форме и составу. Их называют астрономическими объектами (или астрономическими телами, или небесными телами). Ознакомимся с (неполным!) списком таких объектов."
   ]
  },
  {
   "cell_type": "markdown",
   "metadata": {
    "id": "FHQva9F2RvgP"
   },
   "source": [
    "**Звезды**, как и наше Солнце, представляют собой сферы из плазмы, излучающие свет и тепло в результате процесса, называемого ядерным синтезом. При высоких температурах их атомы водорода сливаются, образуя гелий, а затем другие элементы, высвобождая при этом энергию.\n",
    "\n",
    "**Планеты** — это астрономические объекты, вращающиеся вокруг звезд, как Земля! **Луны**, с другой стороны, вращаются вокруг планет.\n",
    "\n",
    "**Астероиды и кометы** — это объекты, вращающиеся вокруг Солнца и находящиеся в Солнечной системе. Астероиды состоят из камня, а кометы в основном состоят из льда.\n",
    "\n",
    "В более крупном масштабе! Группы звезд, удерживаемые рядом друг с другом из-за гравитационного притяжения, называются **звездными скоплениями**. \n",
    "\n",
    "Если еще больше уменьшить масштаб, **галактики** представляют собой огромные системы звезд, пыли и газа (и темной материи!), удерживаемые вместе гравитационным притяжением. Они содержат миллионы или миллиарды звезд.\n",
    "\n",
    "**Туманности** — это большие облака газа и пыли. Внутри туманностей области такого газа и пыли начинают слипаться из-за гравитационного притяжения и становятся областями все более и более плотной материи — будущими звездами!\n",
    "\n",
    "**Черные дыры** — это места, где гравитация настолько сильна, что ничто не может избежать ее притяжения. Даже излучение (такое как свет) не может ускользнуть от них — отсюда и название «черная» дыра."
   ]
  },
  {
   "cell_type": "markdown",
   "metadata": {
    "id": "BgtbhSm-p4-h"
   },
   "source": [
    "#### Планетарные и звездные орбиты"
   ]
  },
  {
   "cell_type": "markdown",
   "metadata": {
    "id": "Dk26nkYmsjtD"
   },
   "source": [
    "Закон всемирного тяготения Ньютона гласит, что каждый массивный объект притягивает все другие массивные объекты с силой, пропорциональной их массам и обратно пропорциональной расстоянию между ними:\n",
    "\n",
    "$$F_{G} = \\frac{Gm_1 m_2}{r^2}$$\n",
    "\n",
    "где $G$ — постоянная, называемая гравитационной постоянной, которая имеет значение около $6.67 \\cdot 10^{-11} m^3 kg^{-1} s^{-2}$.\n",
    "\n",
    "Мы также знаем, что круговое движение объекта происходит, когда к объекту прикладывается центростремительная или «центробежная» сила. Эта результирующая сила направлена к центру окружности и связана со скоростью объекта соотношением:\n",
    "\n",
    "$$F = \\frac{m v^2}{r}$$\n",
    "\n",
    "Рассмотрим ситуацию, когда планета массой $m_1$ (в кг) обращается вокруг звезды массой $m_2$ (в кг) с радиусом $r$ (в метрах). Суммарная сила, действующая на планету, — это гравитационная сила между ней и звездой, т. е. $F_{G} = \\frac{Gm_1 m_2}{r^2}$. Таким образом, центростремительная сила равна $F = \\frac{m_1 v^2}{r}$. Поскольку гравитационная сила в этом случае является центростремительной силой, мы можем найти скорость планеты $v$ через $m_2$, $r$ и $G$."
   ]
  },
  {
   "cell_type": "markdown",
   "metadata": {
    "id": "fBsh2WbOMF3e"
   },
   "source": [
    "Выразим $v$ через $m_2$, $r$, и $G$. Функция ```speed_calculation``` возвращает скорость объекта в зависимости от массы объекта, вокруг которого он вращается, и его орбитального радиуса."
   ]
  },
  {
   "cell_type": "code",
   "execution_count": null,
   "metadata": {
    "colab": {
     "base_uri": "https://localhost:8080/"
    },
    "id": "qYL-XSdnmj6b",
    "outputId": "770e7876-0041-49ee-8335-4a1628bbc0e5"
   },
   "outputs": [],
   "source": [
    "# ==== CELL 15 ==== \n",
    "\n",
    "def speed_calculation(m_2, r):\n",
    "    G = 6.67*10**(-11) \n",
    "    speed = np.sqrt(G*m_2/r)\n",
    "    print(\"Скорость планеты, вращающейся на расстоянии {} метров от звезды массой {} кг, составляет {} м/с.\".format(r, m_2, speed))\n",
    "\n",
    "speed_calculation(1e20, 1000)\n",
    "\n",
    "# масса нашего Солнца примерно 1.98 * 10^30 кг! Если вы получаете очень маленькие скорости,\n",
    "# может быть полезно использовать значения в том же диапазоне масс, что и у Солнца."
   ]
  },
  {
   "cell_type": "markdown",
   "metadata": {
    "id": "ncKBPb9gttM9"
   },
   "source": [
    "Теперь, когда вы настроили свою функцию, поэкспериментируйте с входными параметрами m_2 и r. Как изменится скорость планеты при увеличении/уменьшении радиуса? Как она меняется при увеличении/уменьшении массы звезды? Как насчет массы планеты - играет ли она роль в скорости планеты?"
   ]
  },
  {
   "cell_type": "markdown",
   "metadata": {
    "id": "IVn1Z92xMP76"
   },
   "source": [
    "Закон всемирного тяготения Ньютона предполагает круговые орбиты. На самом деле объекты вращаются по эллиптическим орбитам, не всегда круговым. Иоганн Кеплер первым обнаружил, что планеты вращаются по эллиптическим орбитам. Кеплер известен своими тремя законами, каждый из которых имеет отношение к движению планет — вы узнаете об этом больше в разделе 2. А пока просто помните, что масса и радиус орбиты тесно связаны с орбитальной скоростью."
   ]
  },
  {
   "cell_type": "markdown",
   "metadata": {
    "id": "nI6GIm39MVF5"
   },
   "source": [
    "#### Доплеровский сдвиг в звуке"
   ]
  },
  {
   "cell_type": "markdown",
   "metadata": {
    "id": "iqTqOaGagUeT"
   },
   "source": [
    "Вы когда-нибудь слушали сирену машины скорой помощи, когда она проезжала мимо вас, и замечали, что ее тон падает, когда она удаляется? Это повседневный пример эффекта Доплера в действии. Тип звука, издаваемого сиреной, не меняется — скорее скорость машины скорой помощи влияет на высоту звука.\n",
    "\n",
    "Что такое звук? Звук представляет собой волны давления, которые колеблются в материале, подобно ряби на воде. Точки, где давление высокое, называются «гребнями», а точки, где давление низкое, — «впадинами». Мы обычно изображаем эти гребни как линии, называемые волновыми фронтами, распространяющимися от источника.\n",
    "\n",
    "Ниже приведен пример — сирена полицейской машины издает звук, звуковые волны которого распространяются во всех направлениях следующим образом:"
   ]
  },
  {
   "cell_type": "markdown",
   "metadata": {
    "id": "1vOVAwXhiPmL"
   },
   "source": [
    "![](images/img1.png)"
   ]
  },
  {
   "cell_type": "markdown",
   "metadata": {
    "id": "ERz0goq3dTUc"
   },
   "source": [
    "[Image source: [Syavula](https://itsi.intelligentpractice.co.za/read/science/grade-12/doppler-effect/06-doppler-effect-02).]"
   ]
  },
  {
   "cell_type": "markdown",
   "metadata": {
    "id": "_8eiVQ9qiU3b"
   },
   "source": [
    "Длиной волны $\\lambda$ звуковой волны называется расстояние между двумя впадинами или между двумя гребнями распространяющихся волн. Частота $f$ — это количество раз в секунду, которое гребень звуковой волны проходит через определенную точку. Обратите внимание, что если расстояние между гребнями (длина волны $\\lambda$) становится больше, то другому гребню потребуется больше времени, чтобы пройти через ту же точку, и, таким образом, $f$ будет меньше. Таким образом, мы говорим, что частота обратно пропорциональна длине волны.\n",
    "\n",
    "Наше ухо улавливает эти волны давления и интерпретирует их как звук. Высота звука, который мы слышим, связана с частотой (и, следовательно, с длиной волны) звука, достигающего нашего уха.\n",
    "\n",
    "Теперь давайте рассмотрим, что произойдет, если наша полицейская машина тронется с места, пока работает сирена."
   ]
  },
  {
   "cell_type": "markdown",
   "metadata": {
    "id": "zHRk8U7djW2-"
   },
   "source": [
    "![](images/img2.png)"
   ]
  },
  {
   "cell_type": "markdown",
   "metadata": {
    "id": "GmfIwYEKdLo_"
   },
   "source": [
    "[Image source: [Syavula](https://itsi.intelligentpractice.co.za/read/science/grade-12/doppler-effect/06-doppler-effect-02).]"
   ]
  },
  {
   "cell_type": "markdown",
   "metadata": {
    "id": "lk6r75ZjjacF"
   },
   "source": [
    "Сирена издает звуковую волну, как и ожидалось. Однако к тому времени, когда она испускает еще одну звуковую волну, машина перемещается на расстояние вправо. Таким образом, следующий гребень звуковой волны будет излучаться ближе к предыдущей звуковой волне, чем это было бы, если бы автомобиль стоял неподвижно. Точно так же слева гребень звуковой волны будет на большем расстоянии от предыдущего гребня, потому что автомобиль удалился.\n",
    "\n",
    "Как мы видим на диаграмме, это приводит к тому, что звуковые волны становятся более «сгруппированными» перед автомобилем и более разнесенными позади него. Следовательно, воспринимаемая длина волны звуковых волн короче перед автомобилем, чем позади него.\n",
    "\n",
    "Представьте, что вы стоите там, где стоит женщина справа. Ваше ухо будет воспринимать более короткую длину волны звука, из-за чего высота звука сирены будет казаться выше. Однако, как только автомобиль проедет мимо вас, вы окажетесь там, где звуковые волны расходятся дальше друг от друга, поэтому длина волны будет больше, а высота звука, воспринимаемая вашим ухом, будет ниже.\n",
    "\n",
    "Это доплеровский сдвиг! Из-за скорости источника относительно наблюдателя меняется высота звука. "
   ]
  },
  {
   "cell_type": "markdown",
   "metadata": {
    "id": "KT6Dcl-ulGjK"
   },
   "source": [
    "Точное уравнение для доплеровского сдвига звука с движущимся источником звука:\n",
    "\n",
    "$$\\lambda_{observed} = \\frac{v_{sound} \\pm v_{source}}{v_{sound}} \\lambda_{source}$$\n",
    "\n",
    "где числитель представляет собой сумму, если источник удаляется от наблюдателя, и разность, если источник движется к наблюдателю."
   ]
  },
  {
   "cell_type": "code",
   "execution_count": null,
   "metadata": {
    "colab": {
     "base_uri": "https://localhost:8080/"
    },
    "id": "WRu2UHGPmefy",
    "outputId": "fe7c97ed-2314-4351-ed7f-b7a6ddd88a18"
   },
   "outputs": [],
   "source": [
    "# ==== CELL 16 ==== \n",
    "\n",
    "# The speed of sound is about 343 meters per second (m/s). Suppose we have a siren on our car that \n",
    "# emmits at a 0.440 meter wavelength and we travel with speeds (m/s) in the following array:\n",
    "car_speed = np.array([5, 10, 15, 20, 25, 30])\n",
    "\n",
    "# What wavelength would our friend observe for each speed, if our car is moving towards our \n",
    "# friend?\n",
    "\n",
    "v_sound = 343\n",
    "wavelength_source = 0.440\n",
    "\n",
    "wavelength_observed = ((v_sound - car_speed)/v_sound)*wavelength_source\n",
    "\n",
    "print(\"The wavelengths observed for each of those car speeds (in metres) would be: \\n\", wavelength_observed)\n",
    "\n",
    "# HINT: use the equation for wavelength above! You can use the array car_speed in your equation\n",
    "# and Python will output an array with all calculated wavelengths at once.\n",
    "# You can also write your own function.\n",
    "\n",
    "# Note: We hear frequencies, not wavelengths, but they are related by the speed of the traveling \n",
    "# wave as v = wavelength*frequency. Try finiding the frequencies as a bonus! "
   ]
  },
  {
   "cell_type": "markdown",
   "metadata": {
    "id": "mGzaYMl2W3ML"
   },
   "source": [
    "#### Advanced Coding"
   ]
  },
  {
   "cell_type": "markdown",
   "metadata": {
    "id": "cLYylAm6XIFq"
   },
   "source": [
    "This section is for those of you either more daring in your coding journey, or perhaps already knew the material covered. Regardless, the following coding tools are a bit more advanced, but will help you understand how the code in the rest of the workshop functions. \n",
    "\n",
    "We start with a powerful technique, 'for' loops:"
   ]
  },
  {
   "cell_type": "code",
   "execution_count": null,
   "metadata": {
    "id": "etNQUjZ9YBml"
   },
   "outputs": [],
   "source": [
    "# ==== CELL 17 ==== \n",
    "\n",
    "# When coding, we sometimes want to repeat the same code, but with different numbers.\n",
    "# Rather than repeating the same code over and over, we can use a loop. Consider the following code:\n",
    "\n",
    "for i in range(10):\n",
    "    print(i)\n",
    "\n",
    "# 'for' tells the computer we are starting a loop, and 'range' is a python function that returns a list.\n",
    "# So, that first line says loop over values in the list range(10). \n",
    "# Try and guess what will be printed, then run the cell!"
   ]
  },
  {
   "cell_type": "code",
   "execution_count": null,
   "metadata": {
    "id": "pLx_kCuE_0b8"
   },
   "outputs": [],
   "source": [
    "# ==== CELL 18 ==== \n",
    "\n",
    "# Activity: write some code that loops over the following array and prints each element:\n",
    "loop_array = np.array([\"mercury\", \"venus\", \"earth\", \"mars\", \"jupiter\", \"saturn\", \"uranus\", \"neptune\"])\n",
    "\n",
    "for planet in loop_array:\n",
    "    print(planet)\n",
    "\n",
    "# or \n",
    "\n",
    "for i in range(len(loop_array)):\n",
    "    print(loop_array[i])\n",
    "\n",
    "# or whatever else let's them print the elements successively \n",
    "\n",
    "# (HINT: Look at what the loop did above, and then remember how we index arrays!)\n",
    "# (the operation 'len()' returns the length of an array and could be useful!)"
   ]
  },
  {
   "cell_type": "markdown",
   "metadata": {
    "id": "mSd4BAB9-wzt"
   },
   "source": [
    "Cool! So we know now how to repeat an action multiple times. But before we can really use this to it's fullest ability, we introduce a cleaner and less error prone method for defining our actions on variables. We call these, \"definitions\":"
   ]
  },
  {
   "cell_type": "code",
   "execution_count": null,
   "metadata": {
    "id": "DAYeVk3aZJWR"
   },
   "outputs": [],
   "source": [
    "# ==== CELL 19 ==== \n",
    "\n",
    "# Usually when coding, we need to repeat actions multiple times in different places. For example, \n",
    "# suppose we wanted to find the area of a circle. This is done easily as follows:\n",
    "def c_area(r):\n",
    "    area = np.pi*r**2.\n",
    "    return area\n",
    "\n",
    "# And we can use the function:\n",
    "test_area = c_area(1.0)\n",
    "print(test_area)\n",
    "\n",
    "# Try changing the value of the radius we plug in to get test_area value. \n",
    "# Run the cell and see how it changes. "
   ]
  },
  {
   "cell_type": "code",
   "execution_count": null,
   "metadata": {
    "id": "aJka-K37DMK6"
   },
   "outputs": [],
   "source": [
    "# ==== CELL 20 ==== \n",
    "\n",
    "# Activity: Write some code that uses the planet information we imported and computes the circumference \n",
    "# of the (approximately circular) orbit of the planets. Make sure to define a function before your loop.\n",
    "\n",
    "def circ(radius):\n",
    "    return 2*np.pi*radius\n",
    "\n",
    "print(circ(orbit_data[i][1]))\n",
    "\n",
    "# (HINT: we stored the orbit data in 'orbit_data' as an array. The radius can be called as orbit_data[i][1],\n",
    "# for index i)"
   ]
  },
  {
   "cell_type": "markdown",
   "metadata": {
    "id": "MjJDjJzHXu11"
   },
   "source": [
    "The final tool we consider in this section are conditional statements. In particular, we look at the \"if\" statement:"
   ]
  },
  {
   "cell_type": "code",
   "execution_count": null,
   "metadata": {
    "id": "Xcr40CiWXsdY"
   },
   "outputs": [],
   "source": [
    "# ==== CELL 21 ==== \n",
    "\n",
    "# These are simple statements that run code that is conditional on certain requirements. \n",
    "# Consider the following:\n",
    "\n",
    "a = 5.\n",
    "\n",
    "# The \"%\" operation returns the remainder. The '==' checks if two things are equal \n",
    "# (so 'a == a' returns 'True').\n",
    "if (a % 2) == 0:\n",
    "    print(\"'a' is even.\")\n",
    "else:\n",
    "    print(\"'a' is odd.\")\n",
    "    \n",
    "# What do you expect this to return? Change \"a\" and see how that changes the result. "
   ]
  },
  {
   "cell_type": "code",
   "execution_count": null,
   "metadata": {
    "id": "tLSQASjB7J8_"
   },
   "outputs": [],
   "source": [
    "# ==== CELL 22 ==== \n",
    "\n",
    "# However, we sometimes need more than one case! In such a scenario, we can use \"elif\", which \n",
    "# extends our if statement:\n",
    "\n",
    "a = 5.\n",
    "\n",
    "if (a < 3.):\n",
    "    print(\"'a' is less than 3\")\n",
    "elif (a == 3.):\n",
    "    print(\"'a' is equal to 3\")\n",
    "else:\n",
    "    print(\"'a' is greater than 3\")\n",
    "\n",
    "# What do you think will print? Try changing 'a' and see what happens. "
   ]
  },
  {
   "cell_type": "code",
   "execution_count": null,
   "metadata": {
    "id": "nZuLw10U8Gpp"
   },
   "outputs": [],
   "source": [
    "# ==== CELL 23 ==== \n",
    "\n",
    "# Activity: Using \"if\" statements, list all the planets in our solar system that have an eccentricity \n",
    "# (e) greater than 0.05. Free feel to use loops aswell! \n",
    "\n",
    "for i in range(len(loop_array)):\n",
    "    if orbit_data[i][2] > 0.05:\n",
    "        print(loop_array[i])\n",
    "\n",
    "# (HINT: we stored the orbit data in 'orbit_data' as an array. The eccentricity can be called as \n",
    "# orbit_data[i][2] for index i)"
   ]
  },
  {
   "cell_type": "markdown",
   "metadata": {
    "id": "WK9K9mGomK1M"
   },
   "source": [
    "**Дополнительно:** Будет ли происходить доплеровский сдвиг, если движется наблюдатель, а не источник? Как в этом случае будет выглядеть уравнение длины волны?"
   ]
  },
  {
   "cell_type": "markdown",
   "metadata": {
    "id": "4jbcxtgXWgoj"
   },
   "source": [
    "**Решение:**  \n",
    "*Доплеровский сдвиг по-прежнему будет происходить, если наблюдатель движется к стационарному источнику, потому что это по-прежнему вызывает относительную скорость между источником и наблюдателем. При движении к источнику длина волны уменьшается, а при удалении увеличивается.* Уравнение будет таким:\n",
    "\n",
    "$\\lambda_{observed} = \\frac{v_{sound}}{v_{sound} \\mp v_{observer}} \\lambda_{source}$\n",
    "\n",
    "*где минус в знаменателе означает, что наблюдатель удаляется от источника, а плюс – если он движется к нему.*\n",
    "\n",
    "*Мы можем объединить движущегося наблюдателя и движущийся источник в уравнении, подобном следующему:*\n",
    "\n",
    "$\\lambda_{observed} = \\frac{v_{sound} \\pm v_{source}}{v_{sound} \\mp v_{observer}} \\lambda_{source}$\n",
    "\n",
    "где верхний знак соответствует движению «от», а нижний — движению «навстречу»."
   ]
  },
  {
   "cell_type": "markdown",
   "metadata": {
    "id": "yoM_IBbCQTn1"
   },
   "source": [
    "**Дополнительно**: используя диаграмму из раздела 2.2.1 и некоторые геометрические и векторные манипуляции, посмотрите, сможете ли вы вывести эти уравнения! (вернитесь к этому после раздела 2, если у вас есть время)"
   ]
  },
  {
   "cell_type": "markdown",
   "metadata": {
    "id": "a4wAoAi7fycW"
   },
   "source": [
    "![](images/img3.png)"
   ]
  },
  {
   "cell_type": "markdown",
   "metadata": {
    "id": "NfhQb-1-f-eR"
   },
   "source": [
    "**Решение:**  \n",
    "Сначала мы можем найти $R$ через $R_0$ и $l$. Треугольник Sun-GC-T прямоугольный, потому что круговая скорость всегда находится под прямым углом к радиусу окружности.\n",
    "\n",
    "Тогда из тригонометрии мы знаем, что $R = R_0 \\sin(l)$. Однако для этих уравнений требуются радианы, а $l$ выражается в градусах. Поэтому, поскольку мы знаем, что $\\pi$ радиан составляет $180$ градусов, мы конвертируем в радианы, чтобы получить $R = R_0 \\sin(\\frac{\\pi}{180}l)$."
   ]
  },
  {
   "cell_type": "markdown",
   "metadata": {
    "id": "ZPHMRr68g0rN"
   },
   "source": [
    "Чтобы получить уравнение для $v$, мы рассмотрим его более концептуально. Если мы, исходя из нашего положения на Солнце, попытаемся измерить скорость звезды вдоль нашего луча зрения, то на самом деле мы измерим $v_r$, то есть относительную скорость звезды относительно нас вдоль этой линии зрения. зрение. Это потому, что мы тоже движемся вокруг Солнца со скоростью $v_0$, которая частично направлена в сторону звезды. Мы хотим использовать эту относительную скорость для определения скорости звезды вокруг центра Галактики.\n",
    "\n",
    "Из нашей диаграммы видно, что компонент $v_0$, который находится на линии нашего взгляда на звезду, равен $v_0\\sin(\\frac{\\pi}{180} l)$ (преобразовывая $l$ из градусов в радиан, как мы делали ранее. Наша мера для $v_r$ — это истинная скорость $v$ за вычетом этой составляющей нашего движения к звезде:\n",
    "\n",
    "$v_r = v - v_0\\sin(\\frac{\\pi}{180} l)$. \n",
    "\n",
    "Затем мы можем найти $v = v_r + v_0\\sin(\\frac{\\pi}{180} l)$."
   ]
  },
  {
   "cell_type": "markdown",
   "metadata": {
    "id": "YBHD6cJO-rIo"
   },
   "source": [
    "## Раздел 2: Изучение вращения галактики"
   ]
  },
  {
   "cell_type": "markdown",
   "metadata": {
    "id": "g3LBJkTo-zJ2"
   },
   "source": [
    "### 2.1 Что такое кривые вращения?"
   ]
  },
  {
   "cell_type": "markdown",
   "metadata": {
    "id": "k7t-r5y0RTgu"
   },
   "source": [
    "#### 2.1.1 Вращение галактики"
   ]
  },
  {
   "cell_type": "markdown",
   "metadata": {
    "id": "xnqm6rYzcjTj"
   },
   "source": [
    "Давайте рассмотрим случай спиральной галактики. Одним из важнейших компонентов ее структуры является диск, представляющий собой плоскость, в которой распределено большинство звезд.\n",
    "\n",
    "Если мы проследим путь, по которому следует одна из этих звезд, мы обнаружим, что она вращается вместе с диском относительно центра галактики. Мы можем назвать эту скорость круговой скоростью $v_{circ}$.\n",
    "\n",
    "Так вот, не все звезды в галактическом диске находятся на одинаковом расстоянии от центра, поэтому в действительности эта скорость зависит от радиуса $a$, на котором звезда расположена от своего центра. Мы называем эту функцию $v_{circ}(a)$ кривой вращения галактики.\n",
    "\n",
    "Если мы сможем измерить эти скорости от звезд ближе к галактическому центру до звезд в конце галактического диска, то есть если мы сможем варьировать расстояние $a$, то мы сможем узнать массу интересных свойств галактики! Самое важное на сегодняшний день состоит в том, что мы можем получить информацию о том, как ведет себя гравитационный потенциал и, следовательно, как выглядит распределение масс галактики."
   ]
  },
  {
   "cell_type": "markdown",
   "metadata": {
    "id": "qJeVuIWArGXY"
   },
   "source": [
    "**Кеплеровские кривые вращения**\n",
    "\n",
    "Если мы хотим рассчитать массу астрономического объекта, такого как галактика, наш первый позыв — использовать третий закон Кеплера:\n",
    "\n",
    "$T^2=\\frac{4\\pi^2}{GM}a^3$\n",
    "\n",
    "где $T$ — период обращения в днях, $G$ — гравитационная постоянная Ньютона, $M$ — масса в килограммах, а $a$ — расстояние в астрономических единицах (а.е.).\n",
    "\n",
    "Поскольку Солнце вращается вокруг галактического центра, мы можем получить информацию о его расстоянии до центра и его скорости, чтобы вычислить массу галактики, используя третий закон Кеплера.\n",
    "\n",
    "Предположим, что расстояние до центра галактики равно 8 килопарсекам (1 кпк составляет около $2 \\times 10^8$ а.е.!), а скорость Солнца равна 200 км/с. Как бы вы вычислили период орбиты $T$?\n",
    "\n",
    "*Подумайте: какие предположения мы делаем об орбите Солнца? А как насчет вычисляемой массы?*"
   ]
  },
  {
   "cell_type": "markdown",
   "metadata": {
    "id": "nnzzjs5DtDMB"
   },
   "source": [
    "Ответ: \n",
    "\n",
    "* Масса, которую мы вычисляем, — это масса умещаемая между центром Млечного Пути и Солнцем.\n",
    "* Предположим, что Солнце движется по круговой орбите с радиусом 8000 парсек.\n",
    "* Рассчитаем длину окружности орбиты Солнца.\n",
    "* Рассчитаем период орбиты, взяв длину окружности и разделив ее на скорость."
   ]
  },
  {
   "cell_type": "markdown",
   "metadata": {
    "id": "7fXsXnjbxnC8"
   },
   "source": [
    "Чтобы рассчитать период обращения, вы, вероятно, сделали что-то вроде этого:\n",
    "\n",
    "$T = \\frac{\\text{orbit circumference}}{\\text{orbital velocity}}$\n",
    "\n",
    "Мы можем изменить это уравнение, чтобы найти круговую скорость объекта. В данном случае это планеты Солнечной системы."
   ]
  },
  {
   "cell_type": "markdown",
   "metadata": {
    "id": "8IzTQyj9LuPi"
   },
   "source": [
    "\n",
    "|  Planet | Distance (AU) | Circular velocity (km/s) | Orbital Period (days) |\n",
    "|:-------:|:-------------:|:----------------:|:---------------------:|\n",
    "| Mercury | 0.387         | 47.4           | 88                    |\n",
    "| Venus   | 0.723         | 35           | 225                   |\n",
    "| Earth   | 1.000         | 29.8           | 365.24                |\n",
    "| Mars    | 1.524         | 24.1           | 686.68                |\n",
    "| Jupiter | 5.203         | 13.1           | 4380 (12 years)       |\n",
    "| Saturn  | 9.537         | 9.7           | 10585 (29 years)      |\n",
    "| Uranus  | 19.191        | 6.8           | 30660 (84 years)      |\n",
    "| Neptune | 30.069        | 5.4           | 60225 (165 years)     |"
   ]
  },
  {
   "cell_type": "markdown",
   "metadata": {
    "id": "OuD7Tm7XPgRd"
   },
   "source": [
    "Давайте построим кривую вращения Солнечной системы!"
   ]
  },
  {
   "cell_type": "code",
   "execution_count": null,
   "metadata": {
    "id": "De0VM3yFJ9nz"
   },
   "outputs": [],
   "source": [
    "# Reads the text file \"planets_data.txt\" which contains the table above.\n",
    "planets_data = np.loadtxt('planets_data.txt', dtype={'names':['planet', 'distance', 'circular_velocity', 'period'], 'formats': ('S3', 'f4', 'f4', 'f4')})\n",
    "\n",
    "distance_values = np.zeros((8,100))   #You have seen this before, can you add a comment below explaining \n",
    "                                      # what this does?\n",
    "velocities_values = np.zeros((8,100)) ##It fills the array with a bunch of zeros of size (row,column)\n",
    "                                      \n",
    "for i in range(8):\n",
    "    distance_values[i,:] = planets_data[i][1]   #Filling the array distance_values with the first column of the table planets_data\n",
    "    velocities_values[i,:] = planets_data[i][2] #Filling the array velocities_values with the second column of the table planets_data\n",
    "\n",
    "fig = plt.subplots(figsize=[10,8]) #Setting up the size of the plot\n",
    "\n",
    "#Let's plot the rotation curve! You need the distance to the Sun in the x-axis and the planets' velocities \n",
    "#in the y-axis\n",
    "\n",
    "plt.plot(distance_values,velocities_values, marker='.', color='purple', markersize = 12, linestyle = 'dashed', linewidth=1)\n",
    "\n",
    "plt.xlabel('Distance to the Sun (AU)', size = 16)           #Label for the x-axis\n",
    "plt.ylabel('Circular velocity (km/s)', size = 16)           #Label for the y-axis\n",
    "plt.title('Rotation curve of the Solar System', size = 16)  #Title of the plot\n",
    "plt.tick_params(labelsize = 12, length = 4, width = 4)      #Sizes of the ticks on the plot\n",
    "plt.show()"
   ]
  },
  {
   "cell_type": "markdown",
   "metadata": {
    "id": "ElBaFy-JkG9V"
   },
   "source": [
    "Как видно из графика, чем дальше планета от Солнца, тем медленнее она вращается вокруг него. Это то, что мы называем кеплеровской кривой вращения.\n",
    "\n",
    "Используя уравнение для орбитального периода и третий закон Кеплера, найдем выражение, связывающее круговую скорость и расстояние до Солнца с массой Солнечной системы."
   ]
  },
  {
   "cell_type": "markdown",
   "metadata": {
    "id": "IQC5uEHeQvGp"
   },
   "source": [
    "Так как у нас было \n",
    "\n",
    "$T = \\frac{\\text{orbit circumference}}{\\text{orbital velocity}} = \\frac{2\\pi a}{v_{circ}}$\n",
    "\n",
    "Комбинируя это с третьим законом Кеплера, мы можем получить следующее выражение:\n",
    "\n",
    "$\\frac{(2\\pi a)^2}{v^2_{circ}}=\\frac{4\\pi^2a^3}{GM}$\n",
    "\n",
    "Еще больше упрощая, мы показываем простую зависимость между скоростью объекта, его расстоянием до центра системы и массой системы.\n",
    "\n",
    "$v_{circ}=\\sqrt{\\frac{GM}{a}}$\n",
    "\n",
    "Всё согласуется с графиком: если расстояние $a$ мало, круговая скорость $v_{circ}$ большая, и наоборот. Мы также обнаружили новую интересную особенность: $v_{circ}$ пропорциональна массе. Таким образом, если масса увеличивается, увеличивается и круговая скорость. Это будет полезно иметь в виду в третьем разделе этого урока."
   ]
  },
  {
   "cell_type": "markdown",
   "metadata": {
    "id": "WGF-KR3Qp77j"
   },
   "source": [
    "#### 2.1.2 Описание галактического центра"
   ]
  },
  {
   "cell_type": "markdown",
   "metadata": {
    "id": "00GxNIGSi_H5"
   },
   "source": [
    "Для описания положения звезд в нашей галактике Млечный Путь мы используем **галактическую систему координат**. Он основан на сферической системе координат с Солнцем в начале координат.\n",
    "\n",
    "Любая точка галактики описывается двумя координатами: галактической широтой и галактической долготой."
   ]
  },
  {
   "cell_type": "markdown",
   "metadata": {
    "id": "00GxNIGSi_H5"
   },
   "source": [
    "![](images/img4.jpg)"
   ]
  },
  {
   "cell_type": "markdown",
   "metadata": {
    "id": "RecRfyLvRu9Q"
   },
   "source": [
    "[Image source: [Galactic coordinate system, Wikipedia](https://commons.wikimedia.org/wiki/File:Galactic_coordinates.JPG).]"
   ]
  },
  {
   "cell_type": "markdown",
   "metadata": {
    "id": "yFbGdMdijGiD"
   },
   "source": [
    "Галактическая долгота *l* — это угол между объектом и галактическим центром в плоскости галактического экватора. Он измеряется на восток в градусах.\n",
    "\n",
    "Галактическая широта *b* — это угол объекта к северу или югу от галактического экватора, также в градусах.\n",
    "\n",
    "Вот пример галактической карты, где углы галактической долготы выделены желтым цветом, а галактическая широта — красным."
   ]
  },
  {
   "cell_type": "markdown",
   "metadata": {
    "id": "TLzv2iC9M7x0"
   },
   "source": [
    "![](images/img5.png)"
   ]
  },
  {
   "cell_type": "markdown",
   "metadata": {
    "id": "4v0uAmczSBrx"
   },
   "source": [
    "[Image source: [ESO/R.-D.Scholz et al. (AIP)](https://www.eso.org/public/images/eso0303c/)]"
   ]
  },
  {
   "cell_type": "markdown",
   "metadata": {
    "id": "c30RJox9M2X6"
   },
   "source": [
    "Используя галактическую карту выше, оцените галактические координаты GJ725, EZ Aquarii, Lalande 21185 и Сириуса.\n",
    "\n",
    "Сделав это, введите свои оценки в массив ниже."
   ]
  },
  {
   "cell_type": "code",
   "execution_count": null,
   "metadata": {
    "colab": {
     "base_uri": "https://localhost:8080/"
    },
    "id": "1FVULSzWkuzr",
    "outputId": "70e83ce1-2184-404e-b484-ff69d1726d66"
   },
   "outputs": [],
   "source": [
    "# ==== CELL 25 ==== \n",
    "\n",
    "import numpy as np\n",
    "\n",
    "galactic_coordinates = np.array([[\"star name\", \"latitude\", \"longitude\"], [\"GJ725\", 40, 90], [\"EZ Aquarii\", -45, 45], [\"Lalande 21185\", 60, 180], [\"Sirius\", -10, 225]]) \n",
    "# edit this array by adding your estimated \n",
    "# coordinates in the format [\"star name (as a string)\", latitude as a number, longitude as a number]. e.g.\n",
    "# galactic_coordinates = np.array([[\"star name\", \"latitude\", \"longitude\"], [\"YZ Ceti\", -85, 78], {...}])  \n",
    "\n",
    "print(galactic_coordinates)\n",
    "\n",
    "# these are estimates from looking at the chart! If your estimates differ slightly,\n",
    "# don't worry.\n",
    "# To compare with the real values, for example, Sirius is at [-8.88, 227.22]."
   ]
  },
  {
   "cell_type": "markdown",
   "metadata": {
    "id": "o3Nin9PY_DUk"
   },
   "source": [
    "### 2.2 Observing Rotation Curves: Gaia Data"
   ]
  },
  {
   "cell_type": "markdown",
   "metadata": {
    "id": "ikJKmdtzRduY"
   },
   "source": [
    "#### 2.2.1 Gaia Observations"
   ]
  },
  {
   "cell_type": "markdown",
   "metadata": {
    "id": "27xUyiM7jK1O"
   },
   "source": [
    "Gaia — космическая обсерватория Европейского космического агентства. Она была запущена в 2013 году и с 2014 года находится на орбите L2, на расстоянии 1.5 млн км от Земли.\n",
    "\n",
    "Это геодезист: его цель — составить карту неба, наблюдая за миллиардом звезд в нашей галактике, включая их положение, светимость и движение.\n",
    "\n",
    "Методы наблюдения, используемые GAIA для создания этого набора данных о звездах, включают три элемента: астрометрию, фотометрию и спектроскопию."
   ]
  },
  {
   "cell_type": "markdown",
   "metadata": {
    "id": "d0zDQsqjjPTv"
   },
   "source": [
    "**Астрометрия** состоит из измерения положения, движения и величины звезд и других небесных объектов.\n",
    "\n",
    "**Фотометрия** заключается в измерении яркости звезд.\n",
    "\n",
    "**Спектроскопия** измеряет спектр излучения этих звезд. (Спектр — это набор длин волн света, излучаемого объектом!)"
   ]
  },
  {
   "cell_type": "markdown",
   "metadata": {
    "id": "clUlA9nPmeQn"
   },
   "source": [
    "#### 2.2.1 Вычисление скорости вращения и радиуса звезд"
   ]
  },
  {
   "cell_type": "markdown",
   "metadata": {
    "id": "dvN3IknKNUHX"
   },
   "source": [
    "Мы пытаемся построить кривую галактического вращения для звезд в нашей галактике. Теперь, когда мы знаем, как Gaia собирает данные об астрономических объектах, давайте посмотрим, как мы можем определить радиус орбиты и скорость звезды в галактике. Метод, который мы будем использовать, называется «метод точки касания» (tangent point method)."
   ]
  },
  {
   "cell_type": "markdown",
   "metadata": {
    "id": "z4BC4-xtvMXw"
   },
   "source": [
    "![](images/img3.png)"
   ]
  },
  {
   "cell_type": "markdown",
   "metadata": {
    "id": "4S1VSrOiSeFd"
   },
   "source": [
    "[Diagram source: Chemin, L., Renaud, F., & Soubiran, C. 2015, Astronomy & Astrophysics, 578, A14]"
   ]
  },
  {
   "cell_type": "markdown",
   "metadata": {
    "id": "lLDx59ySNXmX"
   },
   "source": [
    "На приведенной выше диаграмме показан метод касательных, где рассматриваемая нами звезда выделена синим цветом. Используя некоторую геометрию, мы можем найти, что орбитальная скорость *v* звезды, находящейся ближе к центру Галактики, чем Солнце, равна:\n",
    "\n",
    "$$v = v_r + v_0 \\sin\\left(\\frac{\\pi}{180} l\\right)$$\n",
    "\n",
    "а радиус ее орбиты равен:\n",
    "\n",
    "$$R = R_0 \\sin\\left(\\frac{\\pi}{180} l\\right)$$\n",
    "\n",
    "где:\n",
    "\n",
    "- $v_r$ - радиальная скорость звезды (составляющая скорости вдоль поля зрения наблюдателя)\n",
    "\n",
    "- $v_0$ - орбитальная скорость Солнца вокруг галактического центра\n",
    "\n",
    "- $l$ - галактическая долгота звезды в градусах.\n",
    "\n",
    "- $R_0$ - расстояние от Солнца до центра Галактики (около 8 кпк)."
   ]
  },
  {
   "cell_type": "markdown",
   "metadata": {
    "id": "2OtDpuYjNbcE"
   },
   "source": [
    "$R_0$ и $v_0$ — известные значения касательно нашего Солнца. Таким образом, для произвольной звезды нам необходимо определить ее радиальную скорость $v_r$ и ее галактическую долготу $l$, чтобы найти ее орбитальную скорость $v$ и радиус орбиты $R$. Это значения, которые Gaia может рассчитать на основе своих наблюдений.\n",
    "\n",
    "Как Gaia определяет эти значения?"
   ]
  },
  {
   "cell_type": "markdown",
   "metadata": {
    "id": "YvVtsVd5Nf6p"
   },
   "source": [
    "**Галактическая долгота**\n",
    "\n",
    "Как вы думаете, какой из трех методов наблюдения (астрометрия, фотометрия, спектроскопия) можно использовать для определения галактической долготы звезды?"
   ]
  },
  {
   "cell_type": "markdown",
   "metadata": {
    "id": "NxCYfTmKcLpC"
   },
   "source": [
    "*Астрометрия!*"
   ]
  },
  {
   "cell_type": "markdown",
   "metadata": {
    "id": "hU2PvUJkNna4"
   },
   "source": [
    "Если вы сказали астрометрия, то вы правы! GAIA сканирует и делает снимки неба через равные промежутки времени, вращаясь вокруг L2 (точка лагранжа). Сравнивая эти изображения, можно определить долготу."
   ]
  },
  {
   "cell_type": "markdown",
   "metadata": {
    "id": "AQXOOvQYjbOD"
   },
   "source": [
    "**Радиальная скорость**\n",
    "\n",
    "Радиальная скорость — это скорость звезды вдоль луча зрения наблюдателя — в данном случае телескопа GAIA.\n",
    "\n",
    "*Как вы думаете, какой из трех описанных выше методов наблюдения можно использовать для определения радиальной скорости далекой звезды?*"
   ]
  },
  {
   "cell_type": "markdown",
   "metadata": {
    "id": "dgX3joMPNveS"
   },
   "source": [
    "*Спектроскопия!*"
   ]
  },
  {
   "cell_type": "markdown",
   "metadata": {
    "id": "vp6ZmHZajh2L"
   },
   "source": [
    "Оказывается, спектроскопия — это то, что нужно! На спектр испускаемого излучения звезды влияет скорость звезды из-за эффекта Доплера. GAIA записывает эти спектры в течение продолжительных периодов времени, и таким образом можно определить лучевую скорость звезды.\n",
    "\n",
    "Термин «эффект Доплера» должен быть вам знаком — мы обсуждали эффект Доплера в звуке в первой части этого семинара!\n",
    "\n",
    "На свет, излучаемый объектом, влияет доплеровский сдвиг, если этот объект движется точно также как и на звук. Чем быстрее он движется, тем больше на него влияет.\n",
    "\n",
    "Это потому, что, как и звук, свет представляет собой волну, и, следовательно, длины волн и частоты изменяются одинаково. (Обратите внимание: свет — это электромагнитная волна излучения, а звук — волна давления!)"
   ]
  },
  {
   "cell_type": "markdown",
   "metadata": {
    "id": "tul9tTyxnIWk"
   },
   "source": [
    "Как и в случае со звуком, наблюдаемая длина волны света становится меньше, если источник света движется к наблюдателю, и увеличивается, если источник света удаляется.\n",
    "\n",
    "Мы знаем, что спектр света зависит от его длины волны! Например, видимый спектр состоит из света с длиной волны в диапазоне от 380 до 700 нм, где нм означает «нанометр» и равен $10^{-9}$ метрам. Красный цвет соответствует длине волны около 700 нм, а фиолетовый — около 380 нм.\n",
    "\n",
    "Как меняется цвет движущегося источника света из-за доплеровского сдвига? Представьте себе зеленый фонарь ($\\lambda_{source}$ = 540 нм). Если этот источник удаляется от нас (наблюдается увеличение длины волны), на какой цвет мы увидим его изменение? Что, если он движется к нам (наблюдается уменьшение длины волны)?"
   ]
  },
  {
   "cell_type": "markdown",
   "metadata": {
    "id": "61ICa1jKon56"
   },
   "source": [
    "*Если источник удаляется от нас, наблюдаемая длина волны увеличивается. Красный находится на большей длине волны видимого спектра. Таким образом, мы бы увидели, как фонарь меняет цвет на красный по мере увеличения наблюдаемой длины волны от 540 (зеленый) до 700 (красный)*.\n",
    "\n",
    "*Если источник движется к нам, мы видим фонарь более синим/фиолетовым! Это связано с тем, что синий/фиолетовый находится на более коротковолновом конце видимого спектра (около 380).*"
   ]
  },
  {
   "cell_type": "markdown",
   "metadata": {
    "id": "OLHrNTDapcUK"
   },
   "source": [
    "![](images/img6.png)"
   ]
  },
  {
   "cell_type": "markdown",
   "metadata": {
    "id": "AWE5QL0ecv51"
   },
   "source": [
    "[Image source: [University of Windsor](http://web2.uwindsor.ca/courses/physics/high_schools/2005/Special_relativity/DOPPLEREFFECT1.html).]"
   ]
  },
  {
   "cell_type": "markdown",
   "metadata": {
    "id": "zbsdiPWRorGG"
   },
   "source": [
    "Мы обнаруживаем, что источники света, которые удаляются от нас, имеют цвет, который смещается в сторону красного — это называется «красным смещением». Между тем, источники света, которые движутся к нам, имеют сдвиг цвета в сторону синего — «синее смещение». Следовательно, если мы видим, как смещается источник света, мы можем сказать, движется ли он от нас или к нам и с какой скоростью.\n",
    "\n",
    "Вот как Гайя рассчитывает радиальную скорость звезд! Используя спектроскопию, Gaia собирает излучаемые спектры звезд с течением времени. Если этот спектр имеет красное смещение, то звезда удаляется от нас. Если мы заметим голубое смещение, значит, звезда движется к нам. Величина этой лучевой скорости может быть определена из уравнения для доплеровского сдвига."
   ]
  },
  {
   "cell_type": "markdown",
   "metadata": {
    "id": "FYevvDyLrmt9"
   },
   "source": [
    "Уравнение для наблюдаемой длины волны из-за доплеровского сдвига для света такое же, как и для звука, с той лишь разницей, что скорость волны теперь равна $c$, скорости света, а не $v_{sound}$.  \n",
    "$c$ имеет значение $3 \\times 10^{8}$ метров в секунду.\n",
    "\n",
    "$$\\lambda_{observed} = \\frac{c \\pm v_{source}}{c} \\lambda_{source}$$\n",
    "\n",
    "где числитель представляет собой сумму, если источник удаляется от наблюдателя, и разность, если источник движется к наблюдателю.\n",
    "\n",
    "Из этого уравнения видно, что $\\lambda_{observed} > \\lambda_{source}$, если источник удаляется, и $\\lambda_{observed} < \\lambda_{source}$, если источник движется к наблюдателю. Это согласуется с тем, что мы говорили о красном и синем смещении."
   ]
  },
  {
   "cell_type": "code",
   "execution_count": null,
   "metadata": {
    "colab": {
     "base_uri": "https://localhost:8080/"
    },
    "id": "Etn0ZMphmkds",
    "outputId": "2e0ec200-d087-46e4-9c55-2343c3c66864"
   },
   "outputs": [],
   "source": [
    "# Activity: While using your telescope, you notice a cluster of stars you don't recognize. \n",
    "# After some googling, and measuring the intensity, you conclude they are all emmitting at the \n",
    "# same wavelength of light, around 570 nanometers (10^-9 meters). You also know that the speed\n",
    "# of light, c, is 3.00 * 10^8 m/s.\n",
    "\n",
    "#If the following array contains the observed wavelengths (in nanometers) you see through your \n",
    "# telescope, what are the velocities of these stars towards you?\n",
    "obs_wavelength = np.array([630, 515, 480, 675])\n",
    "\n",
    "c = 3*10**(8) # m/s\n",
    "\n",
    "source_wavelength = 570*10**(-9) # m\n",
    "\n",
    "# first we must turn our obs_wavelength array values from nm to m:\n",
    "\n",
    "obs_wavelength_m = obs_wavelength*10**(-9)\n",
    "\n",
    "# then we take the equation for observed wavelength with a source moving towards\n",
    "# us, and solve for v_source. this is the result:\n",
    "\n",
    "v_source = c*(1-obs_wavelength_m/source_wavelength)\n",
    "\n",
    "print(\"The speeds of the stars relative to us are (in m/s): \\n\", v_source)"
   ]
  },
  {
   "cell_type": "markdown",
   "metadata": {},
   "source": [
    "Обратите внимание, что некоторые из этих звезд имеют отрицательную скорость! Это потому, что они движутся не к нам, как мы предполагали в наших расчетах, а удаляются от нас. Тот факт, что наблюдаемые нами длины волн для этих звезд больше, чем у нашего источника, должен был насторожить нас! Впрочем, ничего, теперь мы будем умнее!"
   ]
  },
  {
   "cell_type": "markdown",
   "metadata": {
    "id": "ogflP7zzpnjP"
   },
   "source": [
    "Теперь, когда мы знаем, как Гайя определяет радиальную скорость и галактическую долготу, мы решили нашу головоломку с кривой вращения галактики! Из этих величин мы можем определить орбитальный радиус $R$ и орбитальную скорость $v$ звезд вокруг галактического центра, используя уравнения, которые мы видели ранее:\n",
    "\n",
    "$$v = v_r + v_0 \\sin\\left(\\frac{\\pi}{180} l\\right)$$\n",
    "\n",
    "$$R = R_0 \\sin\\left(\\frac{\\pi}{180} l\\right)$$"
   ]
  },
  {
   "cell_type": "markdown",
   "metadata": {
    "id": "E6x92hM7tOsL"
   },
   "source": [
    "Используя эти уравнения, мы можем построить кривую зависимости скорости от радиуса для звезд с радиусом $R < R_0$, т.е. $R < 8$ кпк. Оказывается, для нашего блокнота Jupyter на сегодняшнем сеансе требуется достаточно много вычислительных ресурсов, поэтому давайте посмотрим на график, опубликованный Sofue et al. в 2009 г. Обратите внимание, что на этом графике используется метод касательной для $R < 8$ кпк, а другой метод для звезд дальше."
   ]
  },
  {
   "cell_type": "markdown",
   "metadata": {
    "id": "faBfUljayn63"
   },
   "source": [
    "![](images/img7.png)"
   ]
  },
  {
   "cell_type": "markdown",
   "metadata": {
    "id": "wbIcXgbNSluR"
   },
   "source": [
    "[Plot source: [Sofue et al.](https://academic.oup.com/pasj/article/61/2/227/2898209)]"
   ]
  },
  {
   "cell_type": "markdown",
   "metadata": {
    "id": "-ZnENHEJ0Vt7"
   },
   "source": [
    "Но не волнуйтесь! Сегодня мы все еще можем построить собственную кривую вращения галактики. Для этого воспользуемся другим методом: анализом линий CO. Вместо этого мы будем использовать гораздо более удобный набор данных CO2, чтобы построить кривую вращения нашей галактики. Мы рассмотрим данные CO в следующем разделе, прежде чем перейти к построению кривой вращения галактики в части 3."
   ]
  },
  {
   "cell_type": "markdown",
   "metadata": {
    "id": "FkBPXo8j8OM9"
   },
   "source": [
    "Миссия Gaia собрала измерения для более чем 1.7 миллиарда звезд, что делает его самым богатым звездным каталогом на сегодняшний день. В 2018 году был опубликован второй выпуск данных от Gaia, состоящий из 22 месяцев измерений неба! С их помощью ученые смогли составить прекрасные карты нашей галактики Млечный Путь.\n",
    "\n",
    "Эти карты показаны ниже. Вверху показана яркость и цвет звезд, в середине — плотность звезд по всей нашей галактике, а внизу — межзвездная пыль, заполняющая галактику. "
   ]
  },
  {
   "cell_type": "markdown",
   "metadata": {
    "id": "IykNWmsp-SFp"
   },
   "source": [
    "![](images/img8.png)"
   ]
  },
  {
   "cell_type": "markdown",
   "metadata": {
    "id": "esviWI7UTJmr"
   },
   "source": [
    "[Image source: [ESA/Gaia/DPAC](https://www.esa.int/ESA_Multimedia/Images/2018/04/Gaia_the_Galactic_census_takes_shape#.YCMl6aMOIrc.link).]"
   ]
  },
  {
   "cell_type": "markdown",
   "metadata": {
    "id": "ulGFWz0b_FMp"
   },
   "source": [
    "For more neat plots from Gaia, [check out](https://www.esa.int/Science_Exploration/Space_Science/Gaia/Gaia_creates_richest_star_map_of_our_Galaxy_and_beyond) . "
   ]
  },
  {
   "cell_type": "markdown",
   "metadata": {
    "id": "WokkH0j5_LWr"
   },
   "source": [
    "### 2.3 Observing Rotation Curves: CO Lines\n",
    "\n"
   ]
  },
  {
   "cell_type": "markdown",
   "metadata": {
    "id": "SD5SzLXv6i2b"
   },
   "source": [
    "Помимо GAIA, еще один телескоп собирает данные, которые можно использовать для построения кривых вращения галактики. Это 45-метровый радиотелескоп Нобеяма, наблюдающий за радиоволнами, известными как «миллиметровые волны». В частности, он может наблюдать то, что известно как молекулярные линии."
   ]
  },
  {
   "cell_type": "markdown",
   "metadata": {
    "id": "QVIWqRx-6jJS"
   },
   "source": [
    "![](images/img9.png)"
   ]
  },
  {
   "cell_type": "markdown",
   "metadata": {
    "id": "JlwEMtRj6jWz"
   },
   "source": [
    "Атомы могут образовывать молекулы, наиболее распространенными атомами во Вселенной являются C, H, O и He, поэтому логично предположить, что наиболее распространенные молекулы, которые могут быть сформированы, состоят из этих атомов. Для изучения Млечного Пути мы сосредоточимся на молекуле монооксида углерода (СО)."
   ]
  },
  {
   "cell_type": "markdown",
   "metadata": {
    "id": "joQ55Gc7onyH"
   },
   "source": [
    "![](images/img10.png)"
   ]
  },
  {
   "cell_type": "markdown",
   "metadata": {
    "id": "qOuRR3Xv1ohs"
   },
   "source": [
    "Молекулярные связи на самом деле не такие прочные, излучение во Вселенной может легко их разорвать, поэтому молекулы, подобные СО, можно найти только там, где они защищены от этого излучения, в облаках газа и пыли.\n",
    "\n",
    "Ядра углерода и кислорода могут вращаться друг вокруг друга с целыми скоростями, точно так же, как электроны могут вращаться вокруг ядра атома в целочисленных энергетических состояниях, которые мы называем орбиталями или оболочками. Внимательно посмотрите на диаграммы ниже."
   ]
  },
  {
   "cell_type": "markdown",
   "metadata": {
    "id": "WT7hEQgaHSMQ"
   },
   "source": [
    "![](images/img11.png)"
   ]
  },
  {
   "cell_type": "markdown",
   "metadata": {
    "id": "dI7aU2v_WJ4Y"
   },
   "source": [
    "![](images/img12.png)"
   ]
  },
  {
   "cell_type": "markdown",
   "metadata": {
    "id": "oEPiJD1cSYGC"
   },
   "source": [
    "Это целочисленное изменение вращения излучает целочисленную единицу энергии, в данном случае свет, который мы называем фотоном с длиной волны, находящейся в диапазоне миллиметров. Вот почему радиотелескоп Нобеяма ищет длины волн в миллиметровом диапазоне!\n",
    "\n",
    "Этот фотон от линий молекулярного вращения, как и фотон от CO, можно использовать для определения физических свойств (таких как плотность и температура) межзвездного газа в галактике Млечный Путь.\n",
    "\n",
    "Эти миллиметровые фотоны межзвездных молекул являются хорошим индикатором плотных, толстых областей межзвездной среды. Эти плотные области обычно являются местами образования звезд."
   ]
  },
  {
   "cell_type": "markdown",
   "metadata": {
    "id": "OjJqGv8VTZDm"
   },
   "source": [
    "![](images/img13.png)"
   ]
  },
  {
   "cell_type": "markdown",
   "metadata": {
    "id": "NXx5kHLaHffT"
   },
   "source": [
    "Это карта СО нашей галактики, цвета обозначают плотность молекулярных облаков. Более теплые цвета означают более высокую плотность, а более холодные тона указывают на менее плотные зоны.\n",
    "\n",
    "Вы заметили что-то странное на этой карте CO Млечного Пути? Похоже, что слева угарного газа больше, чем справа. Забавный факт: это, скорее всего, потому, что левая сторона нашего Млечного Пути взаимодействует с галактикой Андромеды!"
   ]
  },
  {
   "cell_type": "markdown",
   "metadata": {
    "id": "K1SKNlI6Lyn5"
   },
   "source": [
    "**Дополнительно:** Хотя молекулярный водород $H_2$ на сегодняшний день является доминирующей молекулой в молекулярных облаках, мы используем молекулярные линии $CO$.\n",
    " \n",
    "Одна из причин того, насколько сложно или легко обнаружить молекулу, заключается в том, что сила спектральных линий от молекул связана с тем, насколько «асимметрична» молекула.\n",
    "\n",
    "Какую молекулу труднее обнаружить, $H_2$ или $CO$? Почему?\n",
    "$H_2$ труднее обнаружить, поскольку это полностью симметричная молекула, поэтому ее спектральные линии слабее по сравнению с $CO$."
   ]
  },
  {
   "cell_type": "markdown",
   "metadata": {
    "id": "W436U5ra_ZXL"
   },
   "source": [
    "## Section 3: Rotation Curves and Dark Matter"
   ]
  },
  {
   "cell_type": "markdown",
   "metadata": {
    "id": "bRvacamT_fDm"
   },
   "source": [
    "### 3.1 Plotting Rotation Curves"
   ]
  },
  {
   "cell_type": "markdown",
   "metadata": {
    "id": "TrIxEYJzxoXH"
   },
   "source": [
    "1. На этом семинаре мы рассмотрим свидетельства существования темной материи, рассмотрев кривые вращения галактик, в частности, кривую вращения галактики Млечный Путь. Для этого мы рассмотрим фактические данные с радиотелескопа. Итак, давайте продолжим и загрузим данные кривой вращения."
   ]
  },
  {
   "cell_type": "code",
   "execution_count": null,
   "metadata": {
    "id": "2i-5y6UHx8Yv"
   },
   "outputs": [],
   "source": [
    "# Just run this cell without modifications!\n",
    "\n",
    "# Here we are importing more useful packages\n",
    "from get_rot_curve import GetRotCurve\n",
    "from scipy import integrate, special\n",
    "import numpy as np\n",
    "import matplotlib.pyplot as plt\n",
    "from make_RC import Vb,\tVh, Vd\n",
    "plt.rc(\"text\", usetex=False)\n",
    "\n",
    "#Let's read in the file with rotation curve data.\n",
    "\n",
    "Radius, Radius_err, Velocity, Velocity_err = GetRotCurve()"
   ]
  },
  {
   "cell_type": "markdown",
   "metadata": {
    "id": "kIslegu5yPJY"
   },
   "source": [
    "2. Все физические величины имеют единицы измерения, как и данные кривой вращения.\n",
    "Радиус измеряется в килопарсеках, а скорость измеряется в $\\rm км\\,с^{-1}$. Давайте посмотрим на массив скоростей - как видите, он имеет 68 элементов в диапазоне от 100 км/с до 250 км/с.\n",
    "В файле данных вы также увидите, что измерения скорости и радиуса имеют связанные с ними ошибки.\n",
    "Ошибки являются неотъемлемой частью проведения экспериментов и говорят нам о том, насколько точны наши измерения.\n",
    "Как правило, ошибка зависит от характера используемого оборудования, но иногда может также заключаться в нашем непонимании физических процессов.\n",
    "После загрузки данных попробуйте распечатать радиус и скорость:"
   ]
  },
  {
   "cell_type": "code",
   "execution_count": null,
   "metadata": {
    "id": "69ZZl_uAyxHX"
   },
   "outputs": [],
   "source": [
    "print(Radius)\n",
    "print(len(Radius))"
   ]
  },
  {
   "cell_type": "markdown",
   "metadata": {
    "id": "vI3Yw56hy2Ql"
   },
   "source": [
    "Мы можем попытаться построить кривую вращения и проанализировать ее. Мы увидим, что скорость очень быстро возрастает, затем уменьшается и выравнивается. Давайте попробуем построить кривую вращения Млечного Пути и посмотрим, как она выглядит."
   ]
  },
  {
   "cell_type": "code",
   "execution_count": null,
   "metadata": {
    "id": "pBi7FQUdy96S"
   },
   "outputs": [],
   "source": [
    "# For plotting, try to also plot the error bars as well for the velocity.\n",
    "# To get errors plotted, we will use ax.errorbars, which is just plotting with errors.\n",
    "\n",
    "fig, ax = plt.subplots(figsize=[10,10])\n",
    "\n",
    "ax.errorbar(Radius, Velocity, yerr=Velocity_err, fmt='.', color='k', capsize=2, label='CO Data') #Feel free to change the color to your favourite.\n",
    "ax.set_xlabel(\"Radius [kpc]\")\n",
    "ax.set_ylabel(\"Velocity [km/s]\")\n",
    "ax.grid(True, linewidth=0.2)\n",
    "ax.legend()\n",
    "plt.show()"
   ]
  },
  {
   "cell_type": "markdown",
   "metadata": {
    "id": "G5Pf2Pjg1QRm"
   },
   "source": [
    "Как видите, кривая вращения выходит на ~1000 кпк, но понять это может быть сложно. Кроме того, размер галактики Млечный Путь составляет всего 200 кпк, а звезды простираются примерно на 60 кпк. Итак, давайте попробуем приблизить внутренние части кривой вращения и посмотреть, как она выглядит."
   ]
  },
  {
   "cell_type": "code",
   "execution_count": null,
   "metadata": {
    "id": "_L5bMnJ-2KoQ"
   },
   "outputs": [],
   "source": [
    "# Re-make the plot and restrict the range of the x-axis and y-axis.\n",
    "\n",
    "fig, ax = plt.subplots(figsize=[10,10])\n",
    "\n",
    "ax.errorbar(Radius, Velocity, yerr=Velocity_err, fmt='.', color='k', capsize=2, label='CO Data')\n",
    "ax.plot(Radius, 1/Radius**2, '--', color='red', label='Keplerian') \n",
    "# plotting the Kelplerian rotation curve\n",
    "ax.axvline(8.2, linestyle='dashed', linewidth=2, color='gold', label=\"Position of the Sun\") \n",
    "#plotting a vertical line where the Sun is\n",
    "# Below please set the limits for the x-axis and y-axis\n",
    "# we want the x-axis to go from 0 to 35 and the y-axis to go from 0 to 250\n",
    "ax.set_xlim([0, 35])\n",
    "ax.set_ylim([0, 250])\n",
    "ax.set_xlabel(\"Radius [kpc]\")\n",
    "ax.set_ylabel(\"Velocity [km/s]\")\n",
    "ax.grid(True, linewidth=0.2)\n",
    "ax.legend()\n",
    "plt.show()"
   ]
  },
  {
   "cell_type": "markdown",
   "metadata": {
    "id": "ihWstPhR2LoD"
   },
   "source": [
    "Мы видим, что кривая вращения Млечного Пути достигает очень высоких скоростей в центре, а затем падает и выходит на стационар при значении $220\\,\\text{км}\\, \\text{s}^{-1}$. Горизонтальная часть кривой вращения говорит нам о том, что существует какая-то невидимая материя.\n",
    "Красная пунктирная линия показывает наше ожидание кривой вращения, если бы она следовала закону Кеплера.\n",
    "\n",
    "Золотая пунктирная линия показывает нам расстояние от Солнца до центра Галактики. Как видите, мы находимся в плоской части кривой вращения, живя внутри диска Млечного Пути.\n",
    "Далее мы увидим доказательства этого, разбивая кривую вращения Млечного Пути на компоненты, а именно на Балдж, Диск и гало Темной Материи."
   ]
  },
  {
   "cell_type": "markdown",
   "metadata": {
    "id": "8tZWheKJ_pq-"
   },
   "source": [
    "### 3.2 Темная материя"
   ]
  },
  {
   "cell_type": "markdown",
   "metadata": {
    "id": "_0SjoD2L66Vx"
   },
   "source": [
    "Когда люди начали строить кривые вращения, стало ясно, что масса в спиральных галактиках не соответствует кеплеровским кривым вращения, ожидаемым от видимой массы, такой как звезды и газ.\n",
    "\n",
    "Как видно из данных наблюдений, кривые вращения плоские, насколько можно измерить радиус. Это не то, что ожидается, учитывая только видимую массу. Помните наше уравнение Кеплера, связывающее скорость, расстояние и массу?\n",
    "\n",
    "$v_{circ}(R)=\\sqrt{\\frac{GM(R)}{R}}$\n",
    "\n",
    "Вот почему кривые вращения интерпретируются как убедительное свидетельство «отсутствующей» массы в галактиках: если вы добавляете больше массы по мере увеличения расстояния, то вы можете поддерживать постоянную скорость! Мы называем эту массу, которую не видим, «темной материей».\n",
    "\n",
    "Чтобы доказать это, мы сначала разделим нашу галактику Млечный Путь на ее компоненты: балдж, диск и гало темной материи.\n",
    "\n",
    "Image Credit: ESA (European Space Agency)"
   ]
  },
  {
   "cell_type": "markdown",
   "metadata": {
    "id": "vyP9zhdF6-zC"
   },
   "source": [
    "![](images/img14.jpg)"
   ]
  },
  {
   "cell_type": "markdown",
   "metadata": {
    "id": "e6p_Jqk97VzK"
   },
   "source": [
    "На картинке выше мы можем видеть круговое распределение звезд в центре, называемое галактическим балджем. Именно здесь живет сверхмассивная черная дыра Стрелец A*. Тонкое «дискообразное» распределение звезд, выходящих из центра, называется «Галактический диск». И галактическая выпуклость, и диск заключены в круглое гало, заполненное темной материей.\n",
    "\n",
    "Прежде чем мы сосредоточимся на темной материи, давайте посмотрим, сможем ли мы объяснить кривую вращения Млечного пути только светящейся материей. Для начала создадим массив радиуса в килопарсеках."
   ]
  },
  {
   "cell_type": "code",
   "execution_count": null,
   "metadata": {
    "id": "c_K2odulDEL2"
   },
   "outputs": [],
   "source": [
    "# To do the calculations for the velocity of the individual components, we will need\n",
    "# to define a radius list. It is done via the numpy linspace (linear spacing). \n",
    "# Try to do that in the following way:\n",
    "\n",
    "# R = np.linspace(start, stop, num=number of points)\n",
    "\n",
    "# The start of R should be at 0.01 and the stop should be at 35. You can choose\n",
    "# anywhere between 10 to 100 as the number of points.\n",
    "\n",
    "# Try it yourself, and the print R:\n",
    "R = np.linspace(0.01, 35, num=100)"
   ]
  },
  {
   "cell_type": "markdown",
   "metadata": {
    "id": "t5oupaIf8rNq"
   },
   "source": [
    "Отлично, мы готовы рассчитать скорость звезд в Балдже и на диске. На этом этапе нам нужно отметить, как добавить скорости. В отличие от обычного сложения скорости складываются в квадратуре. Так,\n",
    "$V_{light}=\\sqrt{V_{Bulge}^{2}+V_{Disk}^2}$. Это очень похоже на теорему Пифагора. Посмотрите [здесь](https://colab.research.google.com/drive/15IsaQ0M00UGkzJRKTHyRKW35y22oW_GG#scrollTo=t5oupaIf8rNq&line=2&uniqifier=1).\n",
    "Будьте осторожны, расчет кривой вращения для балджа займет некоторое время.\n",
    "Требуется некоторое время, чтобы вычислить массу с помощью интегрирования (причудливое слово для суммирования). Так что не пугайтесь."
   ]
  },
  {
   "cell_type": "code",
   "execution_count": null,
   "metadata": {
    "id": "Qf542s1O8zsJ"
   },
   "outputs": [],
   "source": [
    "# Here are some constants that you will need \n",
    "sigma_be = 2.7e9\n",
    "kappa = 7.6695\n",
    "Rb = 0.5        \n",
    "sigma_0 = 8.6e8      \n",
    "Rd = 3.5                                                           \n",
    "Vinf = 220\n",
    "Rh = 16\n",
    "\n",
    "Vbul, Vdisk = [], []\n",
    "for i in range(len(R)):                                                            \n",
    "    Vbul.append(Vb(R[i], sigma_be, kappa, Rb))                            \n",
    "    Vdisk.append(Vd(R[i], Rd, sigma_0))\n",
    "\n",
    "Vbul = np.array(Vbul)                               \n",
    "Vdisk = np.array(Vdisk)\n",
    "\n",
    "# Okay, the bulge velocity and the disk velocity are now calculated. \n",
    "# Let's try to plot them along with the data.\n",
    "# While plotting, you should also plot the total of the bulge and the disk.\n",
    "\n",
    "Vtot = np.sqrt(Vbul**2+Vdisk**2)\n",
    "# The algorithm does not converge - уменьшить точность в интеграторе или выколоть нехорошую область?"
   ]
  },
  {
   "cell_type": "code",
   "execution_count": null,
   "metadata": {
    "id": "Qf542s1O8zsJ"
   },
   "outputs": [],
   "source": [
    "fig, ax = plt.subplots(figsize=[10,10])\n",
    "\n",
    "ax.plot(Radius, Velocity, '.', color='k', markersize=10, label='CO Data')\n",
    "# Plot the bulge velocity here\n",
    "ax.plot(R, Vbul, '--', color='r', label='Milky Way Bulge')\n",
    "# Plot the disk velocity here\n",
    "ax.plot(R, Vdisk, '--', color='cyan', label='Milky Way Disk')\n",
    "# Plot the total velocity here\n",
    "ax.plot(R, Vtot, '-', color='lightpink', label='Bulge+Disk')\n",
    "ax.axvline(8.2, linestyle='dashed', linewidth=2, color='gold', label=\"Position of the Sun\")\n",
    "ax.set_xlim([0, 35])\n",
    "ax.set_ylim([0, 270])\n",
    "ax.set_xlabel(\"Radius [kpc]\")\n",
    "ax.set_ylabel(\"Velocity [km/s]\")\n",
    "ax.grid(True, linewidth=0.2)\n",
    "ax.legend(loc='center left', bbox_to_anchor=(1, 0.5))\n",
    "plt.show()"
   ]
  },
  {
   "cell_type": "markdown",
   "metadata": {
    "id": "Y4RW6l2CD10d"
   },
   "source": [
    "Как мы видим, только сумма скоростей балджа и диска действительно хорошо соответствует наблюдаемой кривой вращения при малых R.\n",
    "Однако при больших R полная скорость значительно ниже наблюдаемой скорости.\n",
    "Это говорит нам о том, что нам не хватает какой-то дополнительной массы, которая оказывается ореолом темной материи.\n",
    "\n",
    "Далее, к выпуклости и скорости диска мы добавим профиль скорости гало."
   ]
  },
  {
   "cell_type": "code",
   "execution_count": null,
   "metadata": {
    "id": "RsVv9n6d_APg"
   },
   "outputs": [],
   "source": [
    "Vhalo = []\n",
    "for i in range(len(R)): \n",
    "    Vhalo.append(Vh(R[i], Vinf, Rh)) \n",
    "\n",
    "Vhalo = np.array(Vhalo)\n",
    "\n",
    "# The halo velocity is calculated. \n",
    "# Try to add this to the bulge and disk velocity in the same way we did above:\n",
    "Vtotal = np.sqrt(Vbul**2+Vdisk**2+Vhalo**2)"
   ]
  },
  {
   "cell_type": "code",
   "execution_count": null,
   "metadata": {
    "id": "CrJ5bahl_O8l"
   },
   "outputs": [],
   "source": [
    "# ==== CELL 35 ==== \n",
    "\n",
    "fig, ax = plt.subplots(figsize=[10,10])\n",
    "\n",
    "ax.plot(Radius, Velocity, '.', color='k', markersize=10, label='CO Data')\n",
    "ax.plot(R, Vbul, '--', color='r', label='Milky Way Bulge')\n",
    "ax.plot(R, Vdisk, '--', color='cyan', label='Milky Way Disk')\n",
    "# Insert a line that plots the halo velocity, with the a colour of your choice\n",
    "# (but not the ones from above) and with the label 'Milky Way Halo'\n",
    "ax.plot(R, Vhalo, '--', color='green', label='Milky Way Halo')\n",
    "# Plot total velocity here\n",
    "ax.plot(R, Vtotal, '-', color='Purple', label='Bulge+Disk+Halo')\n",
    "ax.axvline(8.2, linestyle='dashed', linewidth=2, color='gold', label=\"Position of the Sun\")\n",
    "ax.set_xlim([0, 35])\n",
    "ax.set_ylim([0, 270])\n",
    "ax.set_xlabel(\"Radius [kpc]\")\n",
    "ax.set_ylabel(\"Velocity [km/s]\")\n",
    "ax.grid(True, linewidth=0.2)\n",
    "ax.legend(loc='center left', bbox_to_anchor=(1, 0.5))\n",
    "plt.show()"
   ]
  },
  {
   "cell_type": "markdown",
   "metadata": {
    "id": "RBq34kFVFyN9"
   },
   "source": [
    "Теперь, когда вы закончили, вы можете видеть, что внешняя полная скорость лучше совпадает с наблюдаемой кривой вращения.\n",
    "\n",
    "**Дополнительно:** Если вы закончили раньше, вернитесь назад и попробуйте изменить значение некоторых констант, показанных выше. В частности, изменить ```Vinf```, ```sigma_0``` и ```sigma_be```.\n",
    "\n",
    "**ANS** Все константы, представленны на рис. Эти константы наблюдаются и рассчитываются для Млечного Пути, и их изменение может привести к расхождению между наблюдаемой и расчетной кривой вращения.\n",
    "В любом случае увеличение```Sigma_0```, ```Sigma_be``` или ```V_inf``` увеличит скорость на кривой вращения (фиолетовая сплошная линия) и наоборот.\n",
    "\n",
    "**Дополнительно:** Мы видели, что квадрат скорости равен массе, так что же это означает, когда мы увеличиваем или уменьшаем скорость? Что это означает для конкретных компонентов Млечного Пути и количества вещества в разных компонентах?\n",
    "\n",
    "**ANS** Наблюдение за тем, что квадрат скорости равен массе, означает, что увеличение скорости связано с добавлением массы (которое изменяет гравитацию, ощущаемую массой) в разных частях кривой вращения. Таким образом, увеличение, например, ``V_inf`` означает увеличение количества темной материи."
   ]
  },
  {
   "cell_type": "code",
   "execution_count": null,
   "metadata": {
    "id": "VFE8WsogcjE-"
   },
   "outputs": [],
   "source": []
  }
 ],
 "metadata": {
  "@webio": {
   "lastCommId": null,
   "lastKernelId": null
  },
  "colab": {
   "collapsed_sections": [],
   "name": "SOLUTIONS: Let’s Talk Astrophysics Workshop.ipynb",
   "provenance": [],
   "toc_visible": true
  },
  "kernelspec": {
   "display_name": "Python 3",
   "language": "python",
   "name": "python3"
  },
  "language_info": {
   "codemirror_mode": {
    "name": "ipython",
    "version": 3
   },
   "file_extension": ".py",
   "mimetype": "text/x-python",
   "name": "python",
   "nbconvert_exporter": "python",
   "pygments_lexer": "ipython3",
   "version": "3.7.4"
  }
 },
 "nbformat": 4,
 "nbformat_minor": 1
}
