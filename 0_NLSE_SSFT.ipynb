{
 "cells": [
  {
   "cell_type": "markdown",
   "metadata": {},
   "source": [
    "Теория: https://habr.com/ru/company/ruvds/blog/585414/\n",
    "\n",
    "https://github.com/oashour/NonlinearSchrodinger.jl\n",
    "\n",
    "https://ru.wikipedia.org/wiki/Распространение_филамента\n",
    "\n",
    "$$ \\psi (x,t_0+ \\Delta t) = \\exp (i \\Delta t \\mathcal{N} /2) \\mathcal{F}^{-1}\\left [ \\exp (-i \\Delta t \\alpha k^2 /2) \\mathcal{F} \\left [\\exp(i \\Delta t \\mathcal{N} /2) \\psi(x,t_0)\\right]\\right] $$\n",
    "\n",
    "$\\mathcal{N} = \\sigma|\\psi|^2$"
   ]
  },
  {
   "cell_type": "code",
   "execution_count": null,
   "metadata": {},
   "outputs": [],
   "source": [
    "using Plots, FFTW"
   ]
  },
  {
   "cell_type": "code",
   "execution_count": null,
   "metadata": {},
   "outputs": [],
   "source": [
    "# начальная волновая функция, кол-во кадров в анимации, кол-во шагов между кадрами\n",
    "function nlse_ssft!( ψ, timelayers, timesteps; \n",
    "        dt = 0.05, α = 0.5, σ = 1.0, xsteps = 128, xbox = (-10, 10) )\n",
    "    # шаг по времени, дисперсия, нелинейность, \n",
    "    # количество элементов  в массиве вдоль одного измерения, границы в пространстве\n",
    "    \n",
    "    Nd = ndims(ψ) # мерность задачи\n",
    "    Nx = size(ψ,1)\n",
    "    X = range(xbox[1], length = Nx, stop=xbox[2])\n",
    "    T = range(dt*timesteps, length = timelayers, step = dt*timesteps)\n",
    "    dx = step(X)\n",
    "    \n",
    "    xcut = Nx ÷ xsteps # на выходе не весь тяжелый массив\n",
    "    xscaled = [xcut:xcut:Nx for _ in 1:Nd]\n",
    "    Psi = Array{ComplexF64, Nd}[]\n",
    "    \n",
    "    p = im*dt*σ\n",
    "    K = fftfreq(Nx) * (2π/dx)\n",
    "    k² = [ sum(i-> K[i]^2, Tuple(i) ) for i in CartesianIndices(size(ψ)) ]\n",
    "    eᵏ = exp.(-im*α*dt*k²)\n",
    "    \n",
    "    for i in 1:timelayers\n",
    "        for _ = 1:timesteps\n",
    "            ψ .*= exp.( p*abs2.(ψ) )\n",
    "            fft!(ψ)\n",
    "            ψ .*= eᵏ\n",
    "            ifft!(ψ)\n",
    "        end\n",
    "        push!(Psi, ψ[xscaled...])\n",
    "    end\n",
    "    \n",
    "    return X[xscaled[1]], T, Psi\n",
    "end;"
   ]
  },
  {
   "cell_type": "markdown",
   "metadata": {},
   "source": [
    "# 1D"
   ]
  },
  {
   "cell_type": "code",
   "execution_count": null,
   "metadata": {},
   "outputs": [],
   "source": [
    "psi0 = 0.001randn(ComplexF64, 256) .+ 1.0\n",
    "@time X, T, Psi = nlse_ssft!( psi0, 2^7, 2^9, dt = 5e-4,  xsteps = 128, xbox = (-8π, 8π) );"
   ]
  },
  {
   "cell_type": "code",
   "execution_count": null,
   "metadata": {},
   "outputs": [],
   "source": [
    "Psi = hcat(Psi...);"
   ]
  },
  {
   "cell_type": "code",
   "execution_count": null,
   "metadata": {},
   "outputs": [],
   "source": [
    "contour(T, X, real.(Psi), colorbar = true, fill = true)\n",
    "xaxis!(\"t\"); yaxis!(\"x\")"
   ]
  },
  {
   "cell_type": "code",
   "execution_count": null,
   "metadata": {},
   "outputs": [],
   "source": [
    "savefig(\"1d_soliton.png\")"
   ]
  },
  {
   "cell_type": "code",
   "execution_count": null,
   "metadata": {},
   "outputs": [],
   "source": [
    "anim = @animate for i ∈ 1:size(Psi,2)\n",
    "    plot(X, real.( Psi[:,i] ), line = (3, :black), \n",
    "        fillrange = -5, fillalpha = 0.3, fillcolor = :black, ylims = (-5, 5), legend = false)\n",
    "end\n",
    "gif(anim, \"1d_fillament.gif\", fps = 10)"
   ]
  },
  {
   "cell_type": "markdown",
   "metadata": {},
   "source": [
    "# 2D"
   ]
  },
  {
   "cell_type": "code",
   "execution_count": null,
   "metadata": {},
   "outputs": [],
   "source": [
    "psi0 = 0.001randn(ComplexF64, 64, 64) .+ 1.0\n",
    "@time X, T, Psi = nlse_ssft!( psi0, 2^7, 2^8, dt = 5e-4,  xsteps = 64, xbox = (-8π, 8π) );"
   ]
  },
  {
   "cell_type": "code",
   "execution_count": null,
   "metadata": {},
   "outputs": [],
   "source": [
    "heatmap(X, X, abs2.(Psi[58]), colorbar = true)"
   ]
  },
  {
   "cell_type": "code",
   "execution_count": null,
   "metadata": {},
   "outputs": [],
   "source": [
    "anim = @animate for i ∈ 1:size(Psi,1)\n",
    "    heatmap(X, X, real.(Psi[i]), colorbar = true, title = \"$i\" )#, clim = (-4,4)\n",
    "end\n",
    "gif(anim, \"2d_fillament.gif\", fps = 10)"
   ]
  },
  {
   "cell_type": "markdown",
   "metadata": {},
   "source": [
    "# 3D"
   ]
  },
  {
   "cell_type": "code",
   "execution_count": null,
   "metadata": {},
   "outputs": [],
   "source": [
    "psi0 = 0.001randn(ComplexF64, 64, 64, 64) .+ 1.0\n",
    "@time X, T, Psi = nlse_ssft!( psi0, 2^7, 2^7, dt = 8e-4,  xsteps = 64, xbox = (-8π, 8π) );"
   ]
  },
  {
   "cell_type": "code",
   "execution_count": null,
   "metadata": {},
   "outputs": [],
   "source": [
    "heatmap(X, X, abs2.(Psi[80][:,:,32]) + \n",
    "            0.7abs2.(Psi[80][:,:,31]) + \n",
    "            0.3abs2.(Psi[80][:,:,30]) + \n",
    "            0.1abs2.(Psi[80][:,:,29]), colorbar = true)"
   ]
  },
  {
   "cell_type": "code",
   "execution_count": null,
   "metadata": {},
   "outputs": [],
   "source": [
    "savefig(\"fillamento.png\")"
   ]
  },
  {
   "cell_type": "code",
   "execution_count": null,
   "metadata": {},
   "outputs": [],
   "source": [
    "anim = @animate for i ∈ 1:64 # томография в определенный момент времени\n",
    "    heatmap(abs2.(Psi[80][:,:,i]), xticks = false, yticks = false, \n",
    "        colorbar = true ) #, size = (400,400) , clims = (20,50)\n",
    "end\n",
    "\n",
    "gif(anim, \"3d_space.gif\", fps = 10)"
   ]
  },
  {
   "cell_type": "code",
   "execution_count": null,
   "metadata": {},
   "outputs": [],
   "source": [
    "anim = @animate for i ∈ 1:size(Psi,1) # оволюция определенного среза\n",
    "    heatmap(abs2.(Psi[i][:,:,32]), xticks = false, yticks = false, \n",
    "        colorbar = true ) #, size = (400,400) , clims = (20,50)\n",
    "end\n",
    "\n",
    "gif(anim, \"3d_fillament.gif\", fps = 10)"
   ]
  },
  {
   "cell_type": "code",
   "execution_count": null,
   "metadata": {},
   "outputs": [],
   "source": []
  },
  {
   "cell_type": "code",
   "execution_count": null,
   "metadata": {},
   "outputs": [],
   "source": [
    "psi0 = [ soliton(x+y+z) for x in range(-2π, 2π, length = 64), y in range(-2π, 2π, length = 64),\n",
    "    z in range(-2π, 2π, length = 64)]\n",
    "@time X, T, Psi = nlse_ssft!( psi0, 20, 2^7, dt = 2e-5,  xsteps = 64, xbox = (-2π, 2π) );"
   ]
  },
  {
   "cell_type": "code",
   "execution_count": null,
   "metadata": {},
   "outputs": [],
   "source": [
    "sizeof(Psi[1])/2^20 # mb"
   ]
  },
  {
   "cell_type": "code",
   "execution_count": null,
   "metadata": {},
   "outputs": [],
   "source": [
    "contour(abs2.(Psi[20][:,:,32]), colorbar = true, fill = true)"
   ]
  },
  {
   "cell_type": "code",
   "execution_count": null,
   "metadata": {},
   "outputs": [],
   "source": []
  }
 ],
 "metadata": {
  "kernelspec": {
   "display_name": "Julia 1.7.2",
   "language": "julia",
   "name": "julia-1.7"
  },
  "language_info": {
   "file_extension": ".jl",
   "mimetype": "application/julia",
   "name": "julia",
   "version": "1.7.2"
  }
 },
 "nbformat": 4,
 "nbformat_minor": 2
}
