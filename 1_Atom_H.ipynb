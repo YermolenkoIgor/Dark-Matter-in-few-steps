{
 "cells": [
  {
   "cell_type": "code",
   "execution_count": null,
   "metadata": {
    "scrolled": true
   },
   "outputs": [],
   "source": [
    "using Plots"
   ]
  },
  {
   "cell_type": "markdown",
   "metadata": {},
   "source": [
    "https://ru.wikipedia.org/wiki/Водородоподобный_атом\n",
    "\n",
    "https://ru.wikipedia.org/wiki/Атом_водорода"
   ]
  },
  {
   "cell_type": "code",
   "execution_count": null,
   "metadata": {},
   "outputs": [],
   "source": [
    "const nm = 1e-9 # m\n",
    "const fm = 1e-15 # m\n",
    "const ps = 1e-12 # s\n",
    "const fs = 1e-15 # s\n",
    "\n",
    "const c = 299792458 # m/s\n",
    "const ħ = 1.0546e-34 # J*s\n",
    "const e = 1.6022e-19 # Kl\n",
    "const mₑ = 9.1094e-31 # kg\n",
    "const mp = 1.6726e-27\n",
    "const ε₀ = 8.8542e-12 # F/m\n",
    "\n",
    "const k = 1/(4π*ε₀) # 8.987552e9 # N*m^2/q^2\n",
    "const rₑ = k*e^2 / (mₑ*c^2) # 2.81794e-15 # m\n",
    "const a₀ = 0.052917720859nm # 4π*ε₀*ħ^2 / (mₑ*q^2)\n",
    "const α = 1/137.036 # e^2 / (4π*ε₀*ħ*c)\n",
    "const vₑ = α*c # 2187 km/c"
   ]
  },
  {
   "cell_type": "markdown",
   "metadata": {},
   "source": [
    "\\begin{cases}r={\\sqrt {x^{2}+y^{2}+z^{2}}},\\\\\\theta =\\arccos {\\dfrac {z}{\\sqrt {x^{2}+y^{2}+z^{2}}}}=\\mathrm {arctg} {\\dfrac {\\sqrt {x^{2}+y^{2}}}{z}},\\\\\\varphi =\\mathrm {arctg} {\\dfrac {y}{x}}.\\end{cases}\n"
   ]
  },
  {
   "cell_type": "markdown",
   "metadata": {},
   "source": [
    "$$ \\psi _{nlm}(r,\\theta ,\\varphi )={\\sqrt {\\frac {(n-l-1)!}{2n{\\cdot }(n+l)!}}}{\\cdot }{\\left({\\frac {2}{na_{0}}}\\right)}^{\\frac {3}{2}}{\\cdot }\\exp {\\left({-{\\frac {r}{na_{0}}}}\\right)}{\\cdot }{\\left({\\frac {2r}{na_{0}}}\\right)}^{l}L_{n-l-1}^{2l+1}{\\left({\\frac {2r}{na_{0}}}\\right)}\\cdot Y_{l,m}(\\theta ,\\varphi )$$\n",
    "\n",
    "$$ L_{n}^{(\\alpha )}(x)=\\sum _{i=0}^{n}(-1)^{i}{n+\\alpha \\choose n-i}{\\frac {x^{i}}{i!}}$$\n",
    "\n",
    "$$ Y_{\\ell }^{m}(\\theta ,\\varphi )=(-1)^{m}{\\sqrt {{(2\\ell +1) \\over 4\\pi }{(\\ell -m)! \\over (\\ell +m)!}}}\\,P_{\\ell m}(\\cos {\\theta })\\,e^{im\\varphi }$$\n",
    "\n",
    "$$P_{l}^{m}(x)=2^{l}\\cdot (1-x^{2})^{m/2}\\cdot \\sum _{k=m}^{l}{\\frac {k!}{(k-m)!}}\\cdot x^{k-m}\\cdot {\\binom {l}{k}}{\\binom {\\frac {l+k-1}{2}}{l}}$$\n",
    "\n",
    "\n",
    "$$ {\\binom {\\alpha }{k}}={\\frac {\\alpha ^{\\underline {k}}}{k!}}={\\frac {\\alpha (\\alpha -1)(\\alpha -2)\\cdots (\\alpha -k+1)}{k(k-1)(k-2)\\cdots 1}}\\quad {\\text{for }}k\\in \\mathbb {N} {\\text{ and arbitrary }}\\alpha $$"
   ]
  },
  {
   "cell_type": "code",
   "execution_count": null,
   "metadata": {},
   "outputs": [],
   "source": [
    "bino(a, k) = k>0 ? prod(i-> a-i, 0:k-1) / factorial(k) : k<0 ? 0.0 : 1.0\n",
    "\n",
    "P(x::Float64, m::Int64, l::Int64) = (-1)^m * 2^l * sqrt(1-x^2)^m * \n",
    "        sum( k-> factorial(k)/factorial(k-m) * x^(k-m) * binomial(l, k)*bino( 0.5(l+k-1), l ), m:l )\n",
    "\n",
    "Y(θ::Float64, ϕ::Float64, m::Int64, l::Int64) = \n",
    "        sqrt( (2l+1)/(4π) * factorial(l-m)/factorial(l+m) ) * P( cos(θ), m, l ) * exp(im*m*ϕ)\n",
    "\n",
    "L(x::Float64, a::Int64, n::Int64) = sum( i-> (-1)^i * binomial(n+a, n-i)*x^i / factorial(i), 0:n );"
   ]
  },
  {
   "cell_type": "code",
   "execution_count": null,
   "metadata": {},
   "outputs": [],
   "source": [
    "function ψ(n, l, m, gr) # квантовые числа и радиус в борах\n",
    "    \n",
    "    a₀ = 1.0 # Bohr radius\n",
    "    A = (2/(n*a₀))^2 * sqrt( 0.25a₀*factorial(n-l-1) / factorial(n+l)^3 )\n",
    "    \n",
    "    F(x) = x^l * exp(-0.5x) * factorial(n+l) * L( x, 2l+1, n-l-1 )\n",
    "    R(r, θ, ϕ) = F( 2r/(n*a₀) ) * abs( Y(θ, ϕ, m, l) )\n",
    "    R(x, z) = begin r = hypot(x,1,z); R( r, acos(z/r), atan(x,0) ) end\n",
    "    \n",
    "    X = range(-gr, stop = gr, length = 200)\n",
    "    \n",
    "    Sol = [ abs2( A*R(x, z) ) for x in X, z in X ]\n",
    "    \n",
    "    Sol /= (sum(Sol)*step(X)) # нормировка\n",
    "    #println(sum(Sol)*step(X))\n",
    "    \n",
    "    return X, Sol\n",
    "end;"
   ]
  },
  {
   "cell_type": "code",
   "execution_count": null,
   "metadata": {},
   "outputs": [],
   "source": [
    "X, Z = ψ(4, 3, 0, 40);\n",
    "heatmap(X, X, Z, xaxis=\"a₀\", yaxis=\"a₀\")"
   ]
  },
  {
   "cell_type": "code",
   "execution_count": null,
   "metadata": {},
   "outputs": [],
   "source": [
    "Ps = Plots.Plot{Plots.GRBackend}[] # пустой массив специально под картинки\n",
    "\n",
    "for n in 1:4, l in 0:n-1, m in 0:l # перебираем квантовые числа\n",
    "    X, Z = ψ(n, l, m, 5n)\n",
    "    p0 = heatmap(X, X, Z, title = \"$n $l $m\",\n",
    "        legend = false, ticks = nothing, border = :none)\n",
    "    push!(Ps, p0)\n",
    "end;"
   ]
  },
  {
   "cell_type": "code",
   "execution_count": null,
   "metadata": {},
   "outputs": [],
   "source": [
    "plot(Ps..., size = (600, 400))"
   ]
  },
  {
   "cell_type": "code",
   "execution_count": null,
   "metadata": {},
   "outputs": [],
   "source": [
    "savefig(\"Sorb.png\")"
   ]
  },
  {
   "cell_type": "code",
   "execution_count": null,
   "metadata": {},
   "outputs": [],
   "source": [
    "X = collect(-3:0.01:3)\n",
    "ψ100(r) = 4π*r*exp(-r)/sqrt(π)\n",
    "ρᵣ = [ ψ100(x^2+y^2) for x in X, y in X ] \n",
    "ρᵣ /= maximum(ρᵣ)\n",
    "\n",
    "heatmap(X, X, ρᵣ, xaxis=\"a₀\", yaxis=\"a₀\")\n",
    "\n",
    "Θs = collect((0:0.01:1)*2π)\n",
    "rp = 0.841fm/a₀ \n",
    "plot!( cos.(Θs), sin.(Θs), line = (2, :dash, :green), lab = \"Bor's orbit\" ) \n",
    "plot!( rp*cos.(Θs), rp*sin.(Θs), line = (2, :dash, :red), lab = \"Proton radius\" ) \n",
    "# , ticks = nothing, border = :none,"
   ]
  },
  {
   "cell_type": "code",
   "execution_count": null,
   "metadata": {},
   "outputs": [],
   "source": [
    "n = 1\n",
    "xx = 0\n",
    "ξ = 1e-5\n",
    "while xx < 3\n",
    "    n+=1\n",
    "    xx += (ξ*n)^2\n",
    "end\n",
    "n"
   ]
  },
  {
   "cell_type": "code",
   "execution_count": null,
   "metadata": {},
   "outputs": [],
   "source": [
    "steps = [ (ξ*i)^2 for i in 1:n ]\n",
    "Xadapt = [0.0; accumulate(+, steps ) ]"
   ]
  },
  {
   "cell_type": "code",
   "execution_count": null,
   "metadata": {},
   "outputs": [],
   "source": [
    "ψ100(4e-5^2)"
   ]
  },
  {
   "cell_type": "code",
   "execution_count": null,
   "metadata": {},
   "outputs": [],
   "source": [
    "plot(Xadapt, [ ψ100(x^2) for x in Xadapt ], line = 3, lab = \"Radial distr\")\n",
    "vline!([rp 1], lab = [\"Proton radius\" \"Bor's orbit\"], line = (2, :dash) )\n",
    "#lens!([0, 4e-5], [0, 6e-7], inset = (1, bbox(0.6, 0.3, 0.3, 0.3)), \n",
    "#        xticks = 0:1e-5:2e-5, yticks = 0:1e-7:4e-7,  subplot = 2 ) "
   ]
  },
  {
   "cell_type": "code",
   "execution_count": null,
   "metadata": {},
   "outputs": [],
   "source": [
    "xx = collect(0:1e-6:4e-5)\n",
    "plot(xx, [ ψ100(x^2) for x in xx ], line = 3, \n",
    "    legend = false, xticks = 0:2e-5:4e-5, xaxis = (0,4e-5) )\n",
    "vline!([rp], lab = \"Proton radius\", line = (2, :dash), size = (220, 150))"
   ]
  },
  {
   "cell_type": "markdown",
   "metadata": {},
   "source": [
    "https://habr.com/ru/post/539210/"
   ]
  },
  {
   "cell_type": "markdown",
   "metadata": {},
   "source": [
    "### Уровни энергии\n",
    "\n",
    "$$\n",
    "E_n = -\\frac 12 \\mu c^2 \\frac{\\alpha^2}{n^2}\n",
    "$$\n",
    "\n",
    "$$\n",
    "\\mu = \\frac{m_em_p}{m_e+m_p}\n",
    "$$"
   ]
  },
  {
   "cell_type": "code",
   "execution_count": null,
   "metadata": {},
   "outputs": [],
   "source": [
    "M = mₑ*mp / (mₑ+mp)"
   ]
  },
  {
   "cell_type": "code",
   "execution_count": null,
   "metadata": {},
   "outputs": [],
   "source": [
    "E(n) = -0.5M*c^2*α^2 / n^2 / e # eV = 6.242e+18 * J # eV = J/qₑ"
   ]
  },
  {
   "cell_type": "markdown",
   "metadata": {},
   "source": [
    "![\"series\"](images/img_spec.png)"
   ]
  },
  {
   "cell_type": "code",
   "execution_count": null,
   "metadata": {},
   "outputs": [],
   "source": [
    "E.(1:6)"
   ]
  },
  {
   "cell_type": "code",
   "execution_count": null,
   "metadata": {},
   "outputs": [],
   "source": [
    "Eb = 12398 ./ ( E.(3:6) .- E(2) ) # Balmer series"
   ]
  },
  {
   "cell_type": "code",
   "execution_count": null,
   "metadata": {},
   "outputs": [],
   "source": [
    "Ep = 12398 ./ ( E.(9:16) .- E(3) ) # Paschen series"
   ]
  },
  {
   "cell_type": "code",
   "execution_count": null,
   "metadata": {},
   "outputs": [],
   "source": [
    "El = 12398 ./ ( E.(2:6) .- E(1) ) # Lyman series"
   ]
  },
  {
   "cell_type": "code",
   "execution_count": null,
   "metadata": {},
   "outputs": [],
   "source": [
    "Ens = [Ep; Eb[1:2]]"
   ]
  },
  {
   "cell_type": "code",
   "execution_count": null,
   "metadata": {
    "scrolled": false
   },
   "outputs": [],
   "source": [
    "vline(Ens, xlim = (3500,9200) )"
   ]
  },
  {
   "cell_type": "markdown",
   "metadata": {},
   "source": [
    "Данные оттудова:  \n",
    "https://www.eso.org/sci/observing/tools/standards/IR_spectral_library.html\n",
    "\n",
    "https://www.aanda.org/articles/aa/full_html/2019/09/aa36178-19/aa36178-19.html\n",
    "\n",
    "http://cdsarc.u-strasbg.fr/viz-bin/cat/J/A+A/629/A100"
   ]
  },
  {
   "cell_type": "code",
   "execution_count": null,
   "metadata": {},
   "outputs": [],
   "source": [
    "using DelimitedFiles"
   ]
  },
  {
   "cell_type": "markdown",
   "metadata": {},
   "source": [
    "http://simbad.u-strasbg.fr/simbad/sim-id?Ident=HD102212"
   ]
  },
  {
   "cell_type": "code",
   "execution_count": null,
   "metadata": {},
   "outputs": [],
   "source": [
    "names = readdir(\"data\")\n",
    "names = \"data/\" .* names[occursin.(\"J_A\", names )]"
   ]
  },
  {
   "cell_type": "code",
   "execution_count": null,
   "metadata": {},
   "outputs": [],
   "source": [
    "print( read(names[1], String)[1:209] )"
   ]
  },
  {
   "cell_type": "code",
   "execution_count": null,
   "metadata": {},
   "outputs": [],
   "source": [
    "dats = readdlm(names[3], skipstart = 3);\n",
    "size(dats)"
   ]
  },
  {
   "cell_type": "code",
   "execution_count": null,
   "metadata": {},
   "outputs": [],
   "source": [
    "function velos(X, Y, E)\n",
    "    dl = X[2] - X[1]\n",
    "    function V(λ_rest)\n",
    "        ix = findfirst(x-> abs(x-λ_rest)<dl, X)\n",
    "        mn = minimum( Y[ix-3:ix+3] )\n",
    "        ix = findfirst(x-> x==mn, Y)\n",
    "        λ_obs = X[ix]\n",
    "        (λ_obs-λ_rest) / λ_rest * c # m/c\n",
    "    end\n",
    "    [ V(e) for e in E ] * 1e-3 # km/s\n",
    "end;"
   ]
  },
  {
   "cell_type": "code",
   "execution_count": null,
   "metadata": {
    "scrolled": false
   },
   "outputs": [],
   "source": [
    "plot(0.1dats[:, 1], dats[:, 2], legend = false, title = \"HD196892\")\n",
    "vline!(0.1Ens, line = (1, :dash, :black, 0.9), xlab = \"λ, nm\" )\n",
    "#vline!([380, 780]) # visible\n",
    "#xaxis!((470,700))\n",
    "lens!( [840, 890], [5e-13, 1e-12], inset = (1, bbox(0.45, 0.0, 0.3, 0.3)), yticks = nothing )"
   ]
  },
  {
   "cell_type": "code",
   "execution_count": null,
   "metadata": {},
   "outputs": [],
   "source": [
    "plot(0.1dats[:, 1], dats[:, 2], legend = false, title = \"HD196892\", \n",
    "    background_color = RGB(0.2, 0.2, 0.2) )\n",
    "vline!(0.1Ens, line = (1, :dash, :yellow, 0.9), xlab = \"λ, nm\" )\n",
    "lens!( [840, 890], [5e-13, 1e-12], inset = (1, bbox(0.45, 0.0, 0.3, 0.3)), yticks = nothing )"
   ]
  },
  {
   "cell_type": "code",
   "execution_count": null,
   "metadata": {},
   "outputs": [],
   "source": [
    "savefig(\"spector_dark.png\")"
   ]
  },
  {
   "cell_type": "code",
   "execution_count": null,
   "metadata": {},
   "outputs": [],
   "source": [
    "Vs = velos(dats[:,1], dats[:,2], Ens[1:end-1])"
   ]
  },
  {
   "cell_type": "code",
   "execution_count": null,
   "metadata": {},
   "outputs": [],
   "source": [
    "sum(Vs) / length(Vs) # km/s"
   ]
  },
  {
   "cell_type": "code",
   "execution_count": null,
   "metadata": {},
   "outputs": [],
   "source": [
    "# V(km/s) -34.565 [0.0012] "
   ]
  },
  {
   "cell_type": "markdown",
   "metadata": {},
   "source": [
    "http://simbad.cds.unistra.fr/simbad/sim-basic?Ident=HD196892&submit=SIMBAD+search"
   ]
  },
  {
   "cell_type": "markdown",
   "metadata": {},
   "source": [
    "Doppler shift = (observed wavelength – rest wavelength) / rest wavelength.\n",
    "\n",
    "With the Doppler shift being caused by an object’s motion it is no surprise that there is an equation linking the two. For electromagnetic radiation such as light the formula is:\n",
    "\n",
    "Velocity = Doppler shift * speed of light (roughly 300,000 km/sec).\n",
    "\n",
    "Perhaps a worked example will be useful.\n",
    "\n",
    "Hydrogen, the most common element in the universe has amongst others an emission at 656.3 nanometres (nm). If we observe a certain galaxy, we might find this has shifted to 660.0nm, an amount of 3.7nm. Therefore, the Doppler shift is 3.7/656.3 = 0.006. Its recessional velocity is then approximately 0.006 * 300,000 = 1800 km/sec away from us."
   ]
  }
 ],
 "metadata": {
  "kernelspec": {
   "display_name": "Julia 1.7.2",
   "language": "julia",
   "name": "julia-1.7"
  },
  "language_info": {
   "file_extension": ".jl",
   "mimetype": "application/julia",
   "name": "julia",
   "version": "1.7.2"
  }
 },
 "nbformat": 4,
 "nbformat_minor": 2
}
