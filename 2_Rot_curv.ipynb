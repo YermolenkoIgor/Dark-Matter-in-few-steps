{
 "cells": [
  {
   "cell_type": "code",
   "execution_count": null,
   "metadata": {},
   "outputs": [],
   "source": [
    "using Plots"
   ]
  },
  {
   "cell_type": "markdown",
   "metadata": {},
   "source": [
    "Источник: https://github.com/villano-lab/galactic-spin-W1\n",
    "\n",
    "Кривая вращения отображает скорость вращения звезд в галактике с точки зрения их расстояния от центра, также известного как радиус. Используя фотометрические данные светящегося вещества, можно построить кривую вращения галактики. Он используется для оценки массы внутри радиуса путем приравнивания центростремительной силы к силе тяжести:\n",
    "\n",
    "\\begin{equation}\n",
    "\\frac{mv^2}{r}=\\frac{G M_{enc}(r)}{r^2}\n",
    "\\end{equation}\n",
    "<br>\n",
    ">где:<br>\n",
    "        $v$ = скорость вращения<br>\n",
    "        $G$ = гравитационная постоянная<br>\n",
    "        $M_{enc}(r)$ = масса как функция радиуса<br>\n",
    "        $r$ = радиус или расстояние от центра галактики\n",
    "    <br>\n",
    "\n",
    "Кривые вращения некоторых спиральных галактик обнаруживают несоответствие измеренной и светящейся массы. Связь между скоростью вращения и массой важна для изучения темной материи. Построение кривых вращения спиральных галактик и их компонентов, видимых с ребра, можно использовать в качестве инструмента для нахождения кривой вращения темной материи и соответствующей ей массы.\n",
    "\n",
    "Этот блокнот призван продемонстрировать три различных типа кривых вращения: вращение твердого тела (фрисби), вращение в виде планет и плоское вращение."
   ]
  },
  {
   "cell_type": "code",
   "execution_count": null,
   "metadata": {},
   "outputs": [],
   "source": [
    "function MultiplePositions(radiuses, velocities, maxtime, dt)\n",
    "    \n",
    "    circouter = 2pi*radiuses[end] # длина внешней орбиты\n",
    "    T = range(0, step = dt, stop = maxtime)\n",
    "    # отсекаем время по периоду самой внешней орбиты\n",
    "    istop = findfirst( t-> velocities[end]*t >= circouter, T )\n",
    "    Tcut = T[1:istop-2]\n",
    "    # запоминаем траектории всех тел\n",
    "    Xs = [ r*cos( v*t/r ) for t in T, (r,v) in zip(radiuses, velocities) ]\n",
    "    Ys = [ r*sin( v*t/r ) for t in T, (r,v) in zip(radiuses, velocities) ]\n",
    "    \n",
    "    return Xs, Ys, Tcut\n",
    "end;"
   ]
  },
  {
   "cell_type": "code",
   "execution_count": null,
   "metadata": {},
   "outputs": [],
   "source": [
    "function MakeAnimation(radiuses,velocities, maxtime, dt, filename; \n",
    "                drawmasses = false, axisunit = \"km\",\n",
    "                 masses = 5*ones(length(radiuses)) )\n",
    "   \n",
    "    Xs, Ys, T = MultiplePositions(radiuses, velocities, maxtime, dt);\n",
    "    \n",
    "    limt = 1.1maximum(radiuses)\n",
    "    area = ( drawmasses ? log.( [s * 5e-25 for s in masses].+1 ).+1 : masses )\n",
    "    # ...чтобы кружочки были разного размера\n",
    "    \n",
    "    function plotcirc(r) # чтоб рисовать орбиты\n",
    "        theta = range(0, stop = 2pi, length = 128)\n",
    "        plot!( r*cos.(theta), r*sin.(theta), line = (1, :black) )\n",
    "    end\n",
    "\n",
    "    anim = @animate for (i, t) in enumerate(T)\n",
    "        scatter( Xs[i,:], Ys[i,:], ms = area, c = :black )\n",
    "\n",
    "        for r in radiuses\n",
    "            plotcirc(r)\n",
    "        end\n",
    "\n",
    "        plot!( xlim = (-limt,limt), ylim = (-limt,limt), legend = false, size = (300,300), \n",
    "             xlab = \"x\" * axisunit, ylab = \"y\" * axisunit )\n",
    "    end\n",
    "    gif(anim, filename, fps = 20)\n",
    "end;"
   ]
  },
  {
   "cell_type": "code",
   "execution_count": null,
   "metadata": {},
   "outputs": [],
   "source": [
    "function PlotRotationCurve(radiuses, velocities;\n",
    "                      xlabel=\"Radius (km)\", ylabel=\"Velocity (km/s)\")\n",
    "    xl = 0.1maximum(radiuses)\n",
    "    yl = 0.1maximum(velocities)\n",
    "    plot( radiuses, velocities, line = (2,:black), m = (5, :black), legend = false, \n",
    "            xlim = (0, maximum(radiuses)+xl), \n",
    "            ylim = (minimum(velocities)-yl, maximum(velocities)+yl),\n",
    "            xlab = xlabel, ylab = ylabel, size = (300, 300) )\n",
    "end;"
   ]
  },
  {
   "cell_type": "markdown",
   "metadata": {
    "tags": []
   },
   "source": [
    "### Вращение жесткого тела"
   ]
  },
  {
   "cell_type": "markdown",
   "metadata": {},
   "source": [
    "Самая прямолинейная кривая вращения — это кривая твердого тела, т. е. твердого диска. Скорость вращения в этом случае пропорциональна радиусу вращающегося объекта, который можно обозначить как:\n",
    "\n",
    "\\begin{equation}\n",
    "v \\propto r\n",
    "\\end{equation}\n",
    "\n",
    "Из-за этого твердое тело имеет кривую вращения, линейно увеличивающуюся с радиусом. Чтобы продемонстрировать это, давайте создадим два массива для радиуса и скорости вращения с именами `radiusRB` и `velocityRB` соответственно:"
   ]
  },
  {
   "cell_type": "code",
   "execution_count": null,
   "metadata": {},
   "outputs": [],
   "source": [
    "radiusRB = [1,2,3,4,5]\n",
    "velocityRB = [0.1,0.2,0.3,0.4,0.5]\n",
    "\n",
    "MakeAnimation(radiusRB, velocityRB,   # distance unit to m, velocity unit to m/s\n",
    "                         100, 1,                        # time and dt\n",
    "                         \"rigid_body.gif\", axisunit = \", m\") "
   ]
  },
  {
   "cell_type": "code",
   "execution_count": null,
   "metadata": {},
   "outputs": [],
   "source": [
    "PlotRotationCurve( radiusRB, velocityRB, xlabel = \"Radius, m\", ylabel = \"Velocity, m/s\" )"
   ]
  },
  {
   "cell_type": "code",
   "execution_count": null,
   "metadata": {},
   "outputs": [],
   "source": [
    "savefig(\"rc_rb.png\")"
   ]
  },
  {
   "cell_type": "markdown",
   "metadata": {},
   "source": [
    "При вращении твердого тела все части тела должны сохранять одинаковое положение относительно друг друга на протяжении всего вращения. Другой способ представить это состоит в том, что все части твердого тела имеют одинаковую угловую скорость, то есть скорость изменения их угла относительно горизонтали одинакова."
   ]
  },
  {
   "cell_type": "markdown",
   "metadata": {},
   "source": [
    "### Планетарное вращение"
   ]
  },
  {
   "cell_type": "markdown",
   "metadata": {},
   "source": [
    "Группы тел обладают большей гибкостью при вращении. Наиболее известным примером является модель Кеплера, которая моделирует орбитальное вращение в солнечных системах и движение планет. В этой модели большая часть массы сосредоточена в центре вращающегося объекта, а спутники свободно вращаются вокруг центра. При планетарном вращении скорость вращения обратно пропорциональна квадратному корню из радиуса:\n",
    "\n",
    "\\begin{equation}\n",
    "v \\propto \\frac{1}{\\sqrt{r}}\n",
    "\\end{equation}\n",
    "\n",
    "Одним из примеров является наша Солнечная система с восемью планетами, вращающимися вокруг Солнца в центре."
   ]
  },
  {
   "cell_type": "markdown",
   "metadata": {},
   "source": [
    "https://nssdc.gsfc.nasa.gov/planetary/factsheet/"
   ]
  },
  {
   "cell_type": "code",
   "execution_count": null,
   "metadata": {},
   "outputs": [],
   "source": [
    "# Parameters\n",
    "const G = 6.67408e-11         # Gravitational constant (in m^3 kg^-1 s^-2)\n",
    "const AU = 1.496e11           # AU Astronomical Unit (in meters)\n",
    "const M_Earth = 5.97e24 # kg\n",
    "\n",
    "massesSS = [0.0553, 0.815, 1.0, 0.107, 317.8, 95.2, 14.5, 17.1] * M_Earth\n",
    "radiusSS = [0.387, 0.723, 1.0, 1.52, 5.20, 9.57, 19.17, 30.18] * AU\n",
    "# Mercury, Venus, Earth, Mars, Jupiter, Saturn, Uranus, Neptune\n",
    "M_Sun = 3.3e5*M_Earth\n",
    "# Orbital velocity of planets (v) in m/s\n",
    "velocitySS = sqrt.( accumulate(+, massesSS, init = M_Sun)*G ./ radiusSS );"
   ]
  },
  {
   "cell_type": "code",
   "execution_count": null,
   "metadata": {},
   "outputs": [],
   "source": [
    "velocitySS - [47.4, 35.0, 29.8, 24.1, 13.1, 9.7, 6.8, 5.4]*1000 # сравнение с табличными данными"
   ]
  },
  {
   "cell_type": "code",
   "execution_count": null,
   "metadata": {},
   "outputs": [],
   "source": [
    "MakeAnimation(1e-12*radiusSS, 1e-12*velocitySS,   # change distance unit to km, velocity unit to km/s\n",
    "                         5e10, 5e7,                        # time and dt\n",
    "                \"solarsystem.gif\", drawmasses=true, axisunit = \", ⋅10⁹ km\", masses=massesSS) "
   ]
  },
  {
   "cell_type": "code",
   "execution_count": null,
   "metadata": {},
   "outputs": [],
   "source": [
    "PlotRotationCurve( 1e-12*radiusSS,1e-3*velocitySS,\n",
    "                  xlabel = \"Radius, ⋅10⁹ km\", ylabel = \"Velocity, km/s\" )"
   ]
  },
  {
   "cell_type": "code",
   "execution_count": null,
   "metadata": {},
   "outputs": [],
   "source": [
    "savefig(\"rc_ss.png\")"
   ]
  },
  {
   "cell_type": "markdown",
   "metadata": {},
   "source": [
    "При планетарном вращении ни одно из тел никак не связано друг с другом, поэтому они могут двигаться относительно друг друга. Часто в центре находится единственный доминирующий источник массы — в случае нашей Солнечной системы Солнце достаточно массивно, чтобы мы могли игнорировать массы планет в наших расчетах. Однако, если между центром и наблюдаемыми нами телами имеется значительное количество массы, мы можем получить другие результаты..."
   ]
  },
  {
   "cell_type": "markdown",
   "metadata": {},
   "source": [
    "### Ожидаемое и фактическое вращение галактики"
   ]
  },
  {
   "cell_type": "markdown",
   "metadata": {},
   "source": [
    "http://astroweb.cwru.edu/SPARC/"
   ]
  },
  {
   "cell_type": "code",
   "execution_count": null,
   "metadata": {},
   "outputs": [],
   "source": [
    "SPARC_file_directory = \"data/sparc/\";\n",
    "names = readdir(SPARC_file_directory)"
   ]
  },
  {
   "cell_type": "code",
   "execution_count": null,
   "metadata": {
    "scrolled": true
   },
   "outputs": [],
   "source": [
    "[1:175;][ occursin.(\"NGC5005\", names) ] # ищем конкретную галактику"
   ]
  },
  {
   "cell_type": "code",
   "execution_count": null,
   "metadata": {},
   "outputs": [],
   "source": [
    "using DelimitedFiles"
   ]
  },
  {
   "cell_type": "code",
   "execution_count": null,
   "metadata": {},
   "outputs": [],
   "source": [
    "# Distance = 7.72 Mpc\n",
    "# Rad\tVobs\terrV\tVgas\tVdisk\tVbul\tSBdisk\tSBbul\t\t\n",
    "# kpc\tkm/s\tkm/s\tkm/s\tkm/s\tkm/s\tL/pc^2\tL/pc^2"
   ]
  },
  {
   "cell_type": "markdown",
   "metadata": {},
   "source": [
    "__Header key__:<br>\n",
    ">_Rad_: radius or distance from the center of galaxy (in kiloparsec) <br>\n",
    ">_Vobs_: observed velocity/measured datapoints (in km/s) <br>\n",
    ">_errV_: uncertainty in the observed velocity (in km/s) <br>\n",
    ">_Vgas_: velocity of the gas component (in km/s) <br>\n",
    ">_Vdisk_: velocity of the disk component (in km/s) <br>\n",
    ">_Vbul_: velocity of the bulge component (in km/s) <br>\n",
    ">_SBdisk_: surface brightness of the disk component (in Luminosity/$ \\rm parsec^2$) <br>\n",
    ">_SBbul_: surface brightness of the bulge component (in Luminosity/$ \\rm parsec^2$)\n",
    "\n",
    "Split columns into arrays and name them according to the header displayed in the cell above."
   ]
  },
  {
   "cell_type": "code",
   "execution_count": null,
   "metadata": {},
   "outputs": [],
   "source": [
    "Dat = [ readdlm(SPARC_file_directory*name, skipstart = 3) for name in names ];\n",
    "sz = [ size(d,1) for d in Dat ]\n",
    "argmax(sz) # в каком файле больше точек"
   ]
  },
  {
   "cell_type": "code",
   "execution_count": null,
   "metadata": {},
   "outputs": [],
   "source": [
    "names[110]"
   ]
  },
  {
   "cell_type": "code",
   "execution_count": null,
   "metadata": {},
   "outputs": [],
   "source": [
    "print( read(SPARC_file_directory*names[110], String) )"
   ]
  },
  {
   "cell_type": "code",
   "execution_count": null,
   "metadata": {},
   "outputs": [],
   "source": [
    "for (i,d) in enumerate(Dat) # где есть балдж\n",
    "    if sum(d[:,6]) != 0\n",
    "        print(\"$i \")\n",
    "    end\n",
    "end"
   ]
  },
  {
   "cell_type": "code",
   "execution_count": null,
   "metadata": {
    "scrolled": false
   },
   "outputs": [],
   "source": [
    "dat = Dat[111] # 14 80 110 74 88 108 anti109 111\n",
    "(Rs, Vobs, errV, Vgas, Vdisk, Vbul) = [dat[:,i] for i in 1:6 ]\n",
    "\n",
    "plot( Rs, Vobs, yerr = errV, lab = \"V obs\", line = (3, :grey), m = (3, :grey, 0.5),\n",
    "        #background_color = RGB(0.2, 0.2, 0.2),\n",
    "        title = \"UGC03205\", xlab = \"R, kpc\", ylab = \"V, km/s\")"
   ]
  },
  {
   "cell_type": "code",
   "execution_count": null,
   "metadata": {},
   "outputs": [],
   "source": [
    "savefig(\"rotcurve_UGC03205.png\")"
   ]
  },
  {
   "cell_type": "code",
   "execution_count": null,
   "metadata": {
    "scrolled": true
   },
   "outputs": [],
   "source": [
    "dt = 1e7*3600*24*365 # переводим скорость в кпк на 10млн лет\n",
    "kpc2km = 3.0857e+16 \n",
    "MakeAnimation(Rs[3:12:end], Vobs[3:12:end]/kpc2km*dt, 200, 1,\n",
    "                         \"flatrotation.gif\", axisunit = \", kpc\") "
   ]
  },
  {
   "cell_type": "code",
   "execution_count": null,
   "metadata": {},
   "outputs": [],
   "source": [
    "PlotRotationCurve( Rs[3:12:end], Vobs[3:12:end], xlabel = \"Radius, kpc\", ylabel = \"Velocity, km/s\" )"
   ]
  },
  {
   "cell_type": "markdown",
   "metadata": {},
   "source": [
    ">__Total velocity of luminous matter__: <br>\n",
    "    \\begin{equation}\n",
    "    v_{total,light}(r) = \\sqrt{\\lvert v_{gas}\\rvert v_{gas} + \\Upsilon _{bulge} \\lvert v_{bulge}\\rvert v_{bulge} + \\Upsilon _{disk} \\lvert v_{disk}\\rvert v_{disk}}\n",
    "    \\end{equation}<br>\n",
    "    \n",
    "A prefactor or mass-to-light ratio ($\\Upsilon$) is added to the disk and the bulge which will be useful when fitting the curve of each component. These prefactors help scaling the curve up and down. You can either change these values manually and see the magnitude of the relevant curve change in the cells below or import the fitting parameters from a python library. <br>\n",
    "\n",
    ">pref_bulge: bulge prefactor<br>\n",
    ">pref_disk: disk prefactor\n",
    "\n",
    "Note that the gas prefactor is fixed. The mass of the gas was calculated assuming a factor of 1.33 to account for the contribution of helium. \n",
    "\n",
    "Each component was calculated using the following model: <br>\n",
    ">Bulge: residual luminosity profile <br>\n",
    ">Disk: observed [3.6] surface brightness profile<br>\n",
    ">Gas: H1 surface density profiles or mass models<br>\n",
    "\n",
    "However, these calculations are beyond the scope of this workshop. \n",
    "\n",
    ">Jimenez, Raul, Licia Verde, and S. Peng Oh. **Dark halo properties from rotation curves.** _Monthly Notices of the Royal Astronomical Society_ 339, no. 1 (2003): 243-259. https://doi.org/10.1046/j.1365-8711.2003.06165.x. <br><br>\n",
    ">Lelli, F., McGaugh, S. S., &amp; Schombert, J. M. (2016). **SPARC: Mass models for 175 disk galaxies with Spitzer photometry and accurate rotation curves.** _The Astronomical Journal_, 152(6), 157. https://doi.org/10.3847/0004-6256/152/6/157 <br><br>\n",
    ">Matt Newville, Renee Otten, Andrew Nelson, Antonino Ingargiola, Till Stensitzki, Dan Allan, Austin Fox, Faustin Carter, Michał, Ray Osborn, Dima Pustakhod, lneuhaus, Sebastian Weigand, Glenn, Christoph Deil, Mark, Allan L. R. Hansen, Gustavo Pasquevich, Leon Foks, … Arun Persaud. (2021). __lmfit/lmfit-py: 1.0.3 (1.0.3).__ Zenodo. https://doi.org/10.5281/zenodo.5570790. <br><br>\n",
    ">“Megaparsec: Cosmos.” __Megaparsec__ | _COSMOS_. Swinburne University of Technology. Accessed November 12, 2021. https://astronomy.swin.edu.au/cosmos/m/megaparsec. \n",
    "***"
   ]
  },
  {
   "cell_type": "code",
   "execution_count": null,
   "metadata": {},
   "outputs": [],
   "source": [
    "using Optim # https://github.com/JuliaNLSolvers/Optim.jl"
   ]
  },
  {
   "cell_type": "code",
   "execution_count": null,
   "metadata": {},
   "outputs": [],
   "source": [
    "function Vtot(p, r)\n",
    "    i = findfirst( x-> x==r, Rs ) # or [1:length(Rs);][Rs.==r]\n",
    "    Vgas[i]^2 + p[1]*Vbul[i]^2 + p[2]*Vdisk[i]^2\n",
    "end\n",
    "model(p) = sum( abs2, Vtot.(Ref(p), Rs) - Vobs.^2 );"
   ]
  },
  {
   "cell_type": "code",
   "execution_count": null,
   "metadata": {},
   "outputs": [],
   "source": [
    "res = optimize(model, [1.0, 1.0])"
   ]
  },
  {
   "cell_type": "code",
   "execution_count": null,
   "metadata": {},
   "outputs": [],
   "source": [
    "P = Optim.minimizer(res)"
   ]
  },
  {
   "cell_type": "code",
   "execution_count": null,
   "metadata": {
    "scrolled": false
   },
   "outputs": [],
   "source": [
    "Vsum = Vtot.(Ref(P), Rs)\n",
    " plot( Rs, sqrt.(Vsum), lab = \"Vtot\", line = (3, :red) )\n",
    "plot!( Rs, Vobs, yerr = errV, lab = \"obs\", line = (3, :gray), m = (3,:gray, 0.5) )\n",
    "plot!( Rs, Vgas,  lab = \"gas\", line = (2, :blue) )\n",
    "plot!( Rs, P[2]*Vdisk, lab = \"disk\", line = (2, :green) )\n",
    "plot!( Rs, P[1]*Vbul,  lab = \"bulge\", line = (2, :orange), \n",
    "    legend = :right, xlab = \"R, kpc\", ylab = \"V, km/s\" )"
   ]
  },
  {
   "cell_type": "code",
   "execution_count": null,
   "metadata": {},
   "outputs": [],
   "source": [
    "savefig(\"rot_curve_components.png\")"
   ]
  },
  {
   "cell_type": "code",
   "execution_count": null,
   "metadata": {},
   "outputs": [],
   "source": [
    "# Для 110 галактики\n",
    "dt = 1e7*3600*24*365 # переводим скорость в кпк на 10млн лет\n",
    "kpc2km = 3.0857e+16 \n",
    "MakeAnimation(Rs[3:12:end], Vsum[3:12:end]/kpc2km*dt, 400, 1,\n",
    "                         \"expected.gif\", axisunit = \", kpc\") "
   ]
  },
  {
   "cell_type": "code",
   "execution_count": null,
   "metadata": {},
   "outputs": [],
   "source": [
    "PlotRotationCurve( Rs[3:12:end], Vsum[3:12:end], xlabel = \"Radius, kpc\", ylabel = \"Velocity, km/s\" )"
   ]
  },
  {
   "cell_type": "markdown",
   "metadata": {},
   "source": [
    ">__Velocity__: <br>\n",
    "    \\begin{equation}\n",
    "    v_{DM}(r) = \\sqrt{4 \\pi G \\rho_{0} r_c^2 \\big( 1- \\frac{r_c}{r} \\arctan{\\frac{r}{r_c}}\\big)}\n",
    "    \\end{equation}<br>\n",
    "    where:<br>\n",
    "        $G$ = gravitational constant<br>\n",
    "        $\\rho_0$ = central mass density (in solar mass/$\\rm kpc^3$)<br>\n",
    "        $r_c$ = core radius (in kpc)<br>"
   ]
  },
  {
   "cell_type": "code",
   "execution_count": null,
   "metadata": {},
   "outputs": [],
   "source": [
    "halo(r,rho0,rc) = 4pi*G*rho0*rc^2 * (1 - rc/r * atan(r/rc)) \n",
    "function VwithDM(p, r)\n",
    "    i = findfirst( x-> x==r, Rs ) # or [1:length(Rs);][Rs.==r]\n",
    "    Vgas[i]^2 + p[1]*Vbul[i]^2 + \n",
    "        p[2]*Vdisk[i]^2 + halo(r, p[3], p[4])\n",
    "end\n",
    "model_dm(p) = sum( abs2, VwithDM.(Ref(p), Rs) - Vobs.^2 );"
   ]
  },
  {
   "cell_type": "code",
   "execution_count": null,
   "metadata": {
    "scrolled": true
   },
   "outputs": [],
   "source": [
    "res = optimize(model_dm, [1.0, 1.0, 1.5e10, 10.0])"
   ]
  },
  {
   "cell_type": "code",
   "execution_count": null,
   "metadata": {},
   "outputs": [],
   "source": [
    "P2 = Optim.minimizer(res)"
   ]
  },
  {
   "cell_type": "code",
   "execution_count": null,
   "metadata": {
    "scrolled": false
   },
   "outputs": [],
   "source": [
    "Vsum = VwithDM.(Ref(P2), Rs)\n",
    "Vdm = sqrt.( halo.(Rs, P2[3], P2[4]) )\n",
    " plot( Rs, sqrt.(Vsum), lab = \"Vtot\", line = (3, :red) )\n",
    "plot!( Rs, Vobs, yerr = errV, lab = \"obs\", line = (3, :gray), m = (3,:gray, 0.5) )\n",
    "plot!( Rs, Vdm, lab = \"DM\", line = (2, :black) )\n",
    "plot!( Rs, Vgas,  lab = \"gas\", line = (2, :blue) )\n",
    "plot!( Rs, Vdisk, lab = \"disk\", line = (2, :green) )\n",
    "plot!( Rs, Vbul,  lab = \"bulge\", line = (2, :orange), \n",
    "    legend = :right, xlab = \"R, kpc\", ylab = \"V, km/s\" )"
   ]
  },
  {
   "cell_type": "code",
   "execution_count": null,
   "metadata": {},
   "outputs": [],
   "source": [
    "savefig(\"rot_curve_components_DM.png\")"
   ]
  },
  {
   "cell_type": "code",
   "execution_count": null,
   "metadata": {},
   "outputs": [],
   "source": [
    "plot()\n",
    "for no in 150:159\n",
    "    dat = Dat[no] # 14 80 110\n",
    "    (Rs, Vobs, errV) = [dat[:,i] for i in 1:3 ]\n",
    "    plot!( Rs, Vobs, ribbon = errV, line = 1, \n",
    "         lab = names[no][1:end-11] ) # \n",
    "end\n",
    "plot!( legend = :right, xlab = \"R, kpc\", ylab = \"V, km/s\" )"
   ]
  },
  {
   "cell_type": "code",
   "execution_count": null,
   "metadata": {
    "scrolled": false
   },
   "outputs": [],
   "source": [
    "plot()\n",
    "for no in 40:51\n",
    "    dat = Dat[no] # 14 80 110\n",
    "    (Rs, Vobs, errV) = [dat[:,i] for i in 1:3 ]\n",
    "    plot!( Rs, Vobs, yerr = errV, line = 1, \n",
    "        m = (3, 0.5 ), lab = names[no][1:end-11] ) # \n",
    "end\n",
    "plot!( legend = :right, xlab = \"R, kpc\", ylab = \"V, km/s\" )"
   ]
  },
  {
   "cell_type": "code",
   "execution_count": null,
   "metadata": {},
   "outputs": [],
   "source": [
    "savefig(\"rot_curves.png\")"
   ]
  },
  {
   "cell_type": "code",
   "execution_count": null,
   "metadata": {},
   "outputs": [],
   "source": []
  },
  {
   "cell_type": "code",
   "execution_count": null,
   "metadata": {},
   "outputs": [],
   "source": []
  },
  {
   "cell_type": "code",
   "execution_count": null,
   "metadata": {},
   "outputs": [],
   "source": []
  },
  {
   "cell_type": "code",
   "execution_count": null,
   "metadata": {},
   "outputs": [],
   "source": []
  }
 ],
 "metadata": {
  "@webio": {
   "lastCommId": null,
   "lastKernelId": null
  },
  "kernelspec": {
   "display_name": "Julia 1.7.2",
   "language": "julia",
   "name": "julia-1.7"
  },
  "language_info": {
   "file_extension": ".jl",
   "mimetype": "application/julia",
   "name": "julia",
   "version": "1.7.2"
  }
 },
 "nbformat": 4,
 "nbformat_minor": 2
}
